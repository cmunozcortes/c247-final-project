{
 "cells": [
  {
   "cell_type": "code",
   "execution_count": 1,
   "metadata": {},
   "outputs": [],
   "source": [
    "import datetime\n",
    "\n",
    "import numpy as np\n",
    "import matplotlib.pyplot as plt\n",
    "\n",
    "# Make numpy values easier to read.\n",
    "np.set_printoptions(precision=3, suppress=True)\n",
    "\n",
    "import tensorflow as tf\n",
    "from tensorflow.keras import layers, initializers, regularizers\n",
    "import tensorflow.keras.backend as K\n",
    "\n",
    "# fix CUDNN_STATUS_INTERNAL_ERROR\n",
    "from tensorflow.compat.v1 import ConfigProto\n",
    "from tensorflow.compat.v1 import InteractiveSession\n",
    "\n",
    "config = ConfigProto()\n",
    "config.gpu_options.allow_growth = True\n",
    "session = InteractiveSession(config=config)\n",
    "\n",
    "# Load TensorBoard\n",
    "%load_ext tensorboard"
   ]
  },
  {
   "cell_type": "code",
   "execution_count": 2,
   "metadata": {},
   "outputs": [
    {
     "name": "stdout",
     "output_type": "stream",
     "text": [
      "Training/Valid data shape: (2115, 22, 1000)\n",
      "Test data shape: (443, 22, 1000)\n",
      "Training/Valid target shape: (2115,)\n",
      "Test target shape: (443,)\n",
      "Person train/valid shape: (2115, 1)\n",
      "Person test shape: (443, 1)\n",
      "y_train_valid [2. 3. 0. 0. 0. 0. 2. 1. 3. 3.]\n"
     ]
    }
   ],
   "source": [
    "# Convert from 64 to 32 bit floats\n",
    "X_test = np.load(\"../data/X_test.npy\").astype(np.float32)\n",
    "y_test = np.load(\"../data/y_test.npy\").astype(np.float32)\n",
    "person_train_valid = np.load(\"../data/person_train_valid.npy\").astype(np.float32)\n",
    "X_train_valid = np.load(\"../data/X_train_valid.npy\").astype(np.float32)\n",
    "y_train_valid = np.load(\"../data/y_train_valid.npy\").astype(np.float32)\n",
    "person_test = np.load(\"../data/person_test.npy\").astype(np.float32)\n",
    "\n",
    "# adjust labels \n",
    "y_train_valid -= 769\n",
    "y_test -= 769\n",
    "\n",
    "print ('Training/Valid data shape: {}'.format(X_train_valid.shape))\n",
    "print ('Test data shape: {}'.format(X_test.shape))\n",
    "print ('Training/Valid target shape: {}'.format(y_train_valid.shape))\n",
    "print ('Test target shape: {}'.format(y_test.shape))\n",
    "print ('Person train/valid shape: {}'.format(person_train_valid.shape))\n",
    "print ('Person test shape: {}'.format(person_test.shape))\n",
    "print('y_train_valid', y_train_valid[:10])"
   ]
  },
  {
   "cell_type": "markdown",
   "metadata": {},
   "source": [
    "## Data Augmentation\n",
    "Naive, just duplicate the dataset with different AWGN same sigma"
   ]
  },
  {
   "cell_type": "code",
   "execution_count": 3,
   "metadata": {
    "scrolled": false
   },
   "outputs": [
    {
     "name": "stdout",
     "output_type": "stream",
     "text": [
      "(2115, 22, 1000) -> (52875, 22, 1000)\n",
      "(2115,) -> (52875,)\n"
     ]
    }
   ],
   "source": [
    "awgn_duplication_factor = 25\n",
    "awgn_sigmas = np.linspace(0, 1, awgn_duplication_factor) # Tweak this\n",
    "\n",
    "# Duplicate our source data\n",
    "X_train_valid_aug = np.tile(X_train_valid, (awgn_duplication_factor,1,1))\n",
    "y_train_valid_aug = np.tile(y_train_valid, (awgn_duplication_factor))\n",
    "print(X_train_valid.shape, \"->\", X_train_valid_aug.shape)\n",
    "print(y_train_valid.shape, \"->\", y_train_valid_aug.shape)\n",
    "\n",
    "# Add our AWGN to the duplicated samples\n",
    "sigmas_full = np.repeat(awgn_sigmas, 2115).reshape((2115*awgn_duplication_factor, 1, 1))\n",
    "sigmas_full = sigmas_full * np.ones((2115*awgn_duplication_factor, 22, 1000)) # Broadcast to correct shape\n",
    "noise = np.random.normal(0, sigmas_full)\n",
    "X_train_valid_aug += noise"
   ]
  },
  {
   "cell_type": "markdown",
   "metadata": {},
   "source": [
    "# Convert to TensorFlow data structure\n",
    "Reference: https://www.tensorflow.org/tutorials/load_data/numpy"
   ]
  },
  {
   "cell_type": "code",
   "execution_count": 4,
   "metadata": {},
   "outputs": [
    {
     "name": "stdout",
     "output_type": "stream",
     "text": [
      "(TensorSpec(shape=(22, 1000), dtype=tf.float32, name=None), TensorSpec(shape=(), dtype=tf.float32, name=None))\n",
      "(TensorSpec(shape=(22, 1000), dtype=tf.float32, name=None), TensorSpec(shape=(), dtype=tf.float32, name=None))\n"
     ]
    }
   ],
   "source": [
    "train_dataset = tf.data.Dataset.from_tensor_slices((X_train_valid_aug, y_train_valid_aug))\n",
    "test_dataset = tf.data.Dataset.from_tensor_slices((X_test, y_test))\n",
    "\n",
    "print(train_dataset.element_spec)\n",
    "print(test_dataset.element_spec)\n",
    "\n",
    "BATCH_SIZE = 64\n",
    "SHUFFLE_BUFFER_SIZE = 100\n",
    "\n",
    "train_dataset = train_dataset.shuffle(SHUFFLE_BUFFER_SIZE).batch(BATCH_SIZE)\n",
    "test_dataset = test_dataset.batch(BATCH_SIZE)"
   ]
  },
  {
   "cell_type": "code",
   "execution_count": 8,
   "metadata": {
    "scrolled": false
   },
   "outputs": [
    {
     "name": "stdout",
     "output_type": "stream",
     "text": [
      "Model: \"sequential_2\"\n",
      "_________________________________________________________________\n",
      "Layer (type)                 Output Shape              Param #   \n",
      "=================================================================\n",
      "reshape_4 (Reshape)          (None, 1, 22, 1000)       0         \n",
      "_________________________________________________________________\n",
      "conv2d_4 (Conv2D)            (None, 40, 22, 1000)      1040      \n",
      "_________________________________________________________________\n",
      "permute_2 (Permute)          (None, 1000, 40, 22)      0         \n",
      "_________________________________________________________________\n",
      "reshape_5 (Reshape)          (None, 1000, 880)         0         \n",
      "_________________________________________________________________\n",
      "dropout_3 (Dropout)          (None, 1000, 880)         0         \n",
      "_________________________________________________________________\n",
      "dense_5 (Dense)              (None, 1000, 40)          35240     \n",
      "_________________________________________________________________\n",
      "batch_normalization_2 (Batch (None, 1000, 40)          160       \n",
      "_________________________________________________________________\n",
      "lambda_4 (Lambda)            (None, 1000, 40)          0         \n",
      "_________________________________________________________________\n",
      "average_pooling1d_2 (Average (None, 62, 40)            0         \n",
      "_________________________________________________________________\n",
      "lambda_5 (Lambda)            (None, 62, 40)            0         \n",
      "_________________________________________________________________\n",
      "flatten_2 (Flatten)          (None, 2480)              0         \n",
      "_________________________________________________________________\n",
      "dropout_4 (Dropout)          (None, 2480)              0         \n",
      "_________________________________________________________________\n",
      "dense_6 (Dense)              (None, 40)                99240     \n",
      "_________________________________________________________________\n",
      "dense_7 (Dense)              (None, 4)                 164       \n",
      "=================================================================\n",
      "Total params: 135,844\n",
      "Trainable params: 135,764\n",
      "Non-trainable params: 80\n",
      "_________________________________________________________________\n",
      "Epoch 1/10\n",
      "827/827 [==============================] - 22s 27ms/step - loss: 1.3234 - sparse_categorical_accuracy: 0.7168 - val_loss: 1.8078 - val_sparse_categorical_accuracy: 0.5102\n",
      "Epoch 2/10\n",
      "827/827 [==============================] - 22s 27ms/step - loss: 0.6373 - sparse_categorical_accuracy: 0.9244 - val_loss: 1.7428 - val_sparse_categorical_accuracy: 0.5440\n",
      "Epoch 3/10\n",
      "827/827 [==============================] - 22s 27ms/step - loss: 0.5595 - sparse_categorical_accuracy: 0.9418 - val_loss: 1.6493 - val_sparse_categorical_accuracy: 0.5621\n",
      "Epoch 4/10\n",
      "827/827 [==============================] - 22s 27ms/step - loss: 0.5108 - sparse_categorical_accuracy: 0.9512 - val_loss: 2.0086 - val_sparse_categorical_accuracy: 0.4989\n",
      "Epoch 5/10\n",
      "827/827 [==============================] - 22s 27ms/step - loss: 0.4948 - sparse_categorical_accuracy: 0.9554 - val_loss: 1.7689 - val_sparse_categorical_accuracy: 0.5440\n",
      "Epoch 6/10\n",
      "827/827 [==============================] - 22s 27ms/step - loss: 0.4886 - sparse_categorical_accuracy: 0.9541 - val_loss: 1.9384 - val_sparse_categorical_accuracy: 0.5034\n",
      "Epoch 7/10\n",
      "827/827 [==============================] - 22s 27ms/step - loss: 0.4684 - sparse_categorical_accuracy: 0.9584 - val_loss: 1.8082 - val_sparse_categorical_accuracy: 0.5485\n",
      "Epoch 8/10\n",
      "827/827 [==============================] - 22s 27ms/step - loss: 0.4547 - sparse_categorical_accuracy: 0.9600 - val_loss: 1.7218 - val_sparse_categorical_accuracy: 0.5711\n",
      "Epoch 9/10\n",
      "827/827 [==============================] - 22s 27ms/step - loss: 0.4489 - sparse_categorical_accuracy: 0.9613 - val_loss: 1.7205 - val_sparse_categorical_accuracy: 0.5463\n",
      "Epoch 10/10\n",
      "827/827 [==============================] - 22s 27ms/step - loss: 0.4390 - sparse_categorical_accuracy: 0.9627 - val_loss: 1.7122 - val_sparse_categorical_accuracy: 0.5463\n",
      "dict_keys(['loss', 'sparse_categorical_accuracy', 'val_loss', 'val_sparse_categorical_accuracy'])\n"
     ]
    },
    {
     "data": {
      "image/png": "[encoded data removed]",
      "text/plain": [
       "<Figure size 432x288 with 1 Axes>"
      ]
     },
     "metadata": {
      "needs_background": "light"
     },
     "output_type": "display_data"
    },
    {
     "data": {
      "image/png": "[encoded data removed]",
      "text/plain": [
       "<Figure size 432x288 with 1 Axes>"
      ]
     },
     "metadata": {
      "needs_background": "light"
     },
     "output_type": "display_data"
    },
    {
     "name": "stdout",
     "output_type": "stream",
     "text": [
      "7/7 [==============================] - 0s 10ms/step - loss: 1.7122 - sparse_categorical_accuracy: 0.5463\n",
      "[1.7121716737747192, 0.5462753772735596]\n"
     ]
    }
   ],
   "source": [
    "nf = 40\n",
    "conv_size = 25\n",
    "n_dense_connections = 40\n",
    "\n",
    "model = tf.keras.Sequential()\n",
    "model.add(layers.Reshape((1, 22, 1000), input_shape=(22, 1000)))\n",
    "model.add(layers.Conv2D(input_shape=(1, 22, 1000),\n",
    "                        filters=nf, kernel_size=(1, conv_size), data_format='channels_first',\n",
    "                        padding='same', activation='relu'))\n",
    "# model.add(layers.Conv2D(input_shape=(nf, 22, 1000),\n",
    "#                         filters=nf, kernel_size=(1, conv_size), data_format='channels_first',\n",
    "#                         padding='same', activation='relu'))\n",
    "# model.add(layers.Conv2D(input_shape=(nf, 22, 1000),\n",
    "#                         filters=nf, kernel_size=(1, conv_size), data_format='channels_first',\n",
    "#                         padding='same', activation='relu'))\n",
    "model.add(layers.Permute((3, 1, 2)))\n",
    "model.add(layers.Reshape((1000, nf*22)))\n",
    "model.add(layers.Dropout(0.1, noise_shape=(1, nf*22)))\n",
    "model.add(layers.Dense(n_dense_connections, kernel_regularizer='l2', activation='relu'))\n",
    "model.add(layers.BatchNormalization())\n",
    "model.add(layers.Lambda(lambda x: K.pow(x, 2)))\n",
    "model.add(layers.AveragePooling1D(input_shape=(1000, nf*22),\n",
    "                                  pool_size=75, strides=15))\n",
    "model.add(layers.Lambda(lambda x: K.log(x + 1e-12)))\n",
    "model.add(layers.Flatten())\n",
    "model.add(layers.Dropout(0.3))\n",
    "model.add(layers.Dense(40, activation='relu', kernel_regularizer='l2'))\n",
    "model.add(layers.Dense(4, activation='softmax', kernel_regularizer='l2'))\n",
    "\n",
    "model.summary()\n",
    "\n",
    "log_dir = \"logs/fit/\" + datetime.datetime.now().strftime(\"%Y%m%d-%H%M%S\")\n",
    "tensorboard_callback = tf.keras.callbacks.TensorBoard(log_dir=log_dir, histogram_freq=1)\n",
    "\n",
    "model.compile(optimizer=tf.keras.optimizers.Adam(1e-3),\n",
    "    loss=tf.keras.losses.SparseCategoricalCrossentropy(),\n",
    "    metrics=[tf.keras.metrics.SparseCategoricalAccuracy()])\n",
    "\n",
    "history = model.fit(\n",
    "    train_dataset,\n",
    "    batch_size=128,\n",
    "    epochs=10,\n",
    "    validation_data=test_dataset,\n",
    "    callbacks=[tensorboard_callback]\n",
    ")\n",
    "\n",
    "# https://machinelearningmastery.com/display-deep-learning-model-training-history-in-keras/\n",
    "# list all data in history\n",
    "print(history.history.keys())\n",
    "# summarize history for accuracy\n",
    "plt.plot(history.history['sparse_categorical_accuracy'])\n",
    "plt.plot(history.history['val_sparse_categorical_accuracy'])\n",
    "plt.title('model accuracy')\n",
    "plt.ylabel('accuracy')\n",
    "plt.xlabel('epoch')\n",
    "plt.legend(['train', 'validation'], loc='upper left')\n",
    "plt.grid()\n",
    "plt.show()\n",
    "# summarize history for loss\n",
    "plt.plot(history.history['loss'])\n",
    "plt.plot(history.history['val_loss'])\n",
    "plt.title('model loss')\n",
    "plt.ylabel('loss')\n",
    "plt.xlabel('epoch')\n",
    "plt.legend(['train', 'validation'], loc='upper left')\n",
    "plt.grid()\n",
    "plt.show()\n",
    "\n",
    "# Evaluate model on test dataset\n",
    "print(model.evaluate(test_dataset))"
   ]
  },
  {
   "cell_type": "code",
   "execution_count": 6,
   "metadata": {},
   "outputs": [],
   "source": [
    "# %tensorboard --logdir logs/fit"
   ]
  }
 ],
 "metadata": {
  "kernelspec": {
   "display_name": "Python 3",
   "language": "python",
   "name": "python3"
  },
  "language_info": {
   "codemirror_mode": {
    "name": "ipython",
    "version": 3
   },
   "file_extension": ".py",
   "mimetype": "text/x-python",
   "name": "python",
   "nbconvert_exporter": "python",
   "pygments_lexer": "ipython3",
   "version": "3.8.5"
  }
 },
 "nbformat": 4,
 "nbformat_minor": 2
}
