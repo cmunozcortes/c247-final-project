{
 "cells": [
  {
   "cell_type": "code",
   "execution_count": 2,
   "id": "established-projection",
   "metadata": {},
   "outputs": [],
   "source": [
    "# Imports\n",
    "import numpy as np\n",
    "import matplotlib.pyplot as plt\n",
    "import time\n",
    "import datetime\n",
    "import tensorflow as tf\n",
    "from tensorflow import keras\n",
    "\n",
    "import pandas as pd\n",
    "from pandas import read_csv\n",
    "\n",
    "from sklearn.decomposition import PCA\n",
    "import umap\n",
    "\n",
    "import datetime\n",
    "\n",
    "# Make numpy values easier to read.\n",
    "np.set_printoptions(precision=3, suppress=True)\n",
    "\n",
    "import tensorflow as tf\n",
    "from tensorflow.keras import layers, initializers, regularizers, models, callbacks\n",
    "import tensorflow.keras.backend as K\n",
    "\n",
    "# fix CUDNN_STATUS_INTERNAL_ERROR\n",
    "from tensorflow.compat.v1 import ConfigProto\n",
    "from tensorflow.compat.v1 import InteractiveSession\n",
    "\n",
    "from sklearn.model_selection import train_test_split\n",
    "\n",
    "config = ConfigProto()\n",
    "config.gpu_options.allow_growth = True\n",
    "session = InteractiveSession(config=config)"
   ]
  },
  {
   "cell_type": "code",
   "execution_count": 59,
   "id": "imposed-rotation",
   "metadata": {},
   "outputs": [],
   "source": [
    "def ksquare(x):\n",
    "  return tf.pow(x, 2)\n",
    "\n",
    "def klog(x):\n",
    "  return tf.math.log(x)"
   ]
  },
  {
   "cell_type": "code",
   "execution_count": 4,
   "id": "guilty-sender",
   "metadata": {},
   "outputs": [
    {
     "name": "stdout",
     "output_type": "stream",
     "text": [
      "Training/Valid data shape: (2115, 22, 1000)\n",
      "Test data shape: (443, 22, 1000)\n",
      "Training/Valid target shape: (2115,)\n",
      "Test target shape: (443,)\n",
      "Person train/valid shape: (2115, 1)\n",
      "Person test shape: (443, 1)\n",
      "y_train_valid [2. 3. 0. 0. 0. 0. 2. 1. 3. 3.]\n"
     ]
    }
   ],
   "source": [
    "# Convert from 64 to 32 bit floats\n",
    "X_test = np.load(\"/home/alon/Projects/project/X_test.npy\").astype(np.float32)\n",
    "y_test = np.load(\"/home/alon/Projects/project/y_test.npy\").astype(np.float32)\n",
    "person_train_valid = np.load(\"/home/alon/Projects/project/person_train_valid.npy\").astype(np.float32)\n",
    "X_train_valid = np.load(\"/home/alon/Projects/project/X_train_valid.npy\").astype(np.float32)\n",
    "y_train_valid = np.load(\"/home/alon/Projects/project/y_train_valid.npy\").astype(np.float32)\n",
    "person_test = np.load(\"/home/alon/Projects/project/person_test.npy\").astype(np.float32)\n",
    "\n",
    "# adjust labels \n",
    "y_train_valid -= 769\n",
    "y_test -= 769\n",
    "\n",
    "print ('Training/Valid data shape: {}'.format(X_train_valid.shape))\n",
    "print ('Test data shape: {}'.format(X_test.shape))\n",
    "print ('Training/Valid target shape: {}'.format(y_train_valid.shape))\n",
    "print ('Test target shape: {}'.format(y_test.shape))\n",
    "print ('Person train/valid shape: {}'.format(person_train_valid.shape))\n",
    "print ('Person test shape: {}'.format(person_test.shape))\n",
    "print('y_train_valid', y_train_valid[:10])"
   ]
  },
  {
   "cell_type": "code",
   "execution_count": 7,
   "id": "southern-ordinary",
   "metadata": {},
   "outputs": [
    {
     "name": "stdout",
     "output_type": "stream",
     "text": [
      "[   0    1    2 ... 2112 2113 2114]\n",
      "Training/Valid data shape: (1692, 22, 1000)\n",
      "Validation data shape: (423, 22, 1000)\n",
      "Training/Valid target shape: (1692,)\n",
      "Validation target shape: (423,)\n",
      "Training target shape: (1692,)\n",
      "Validation target shape: (423,)\n"
     ]
    }
   ],
   "source": [
    "#get indices\n",
    "indices_train_val = np.arange(0, person_train_valid.shape[0])\n",
    "print(indices_train_val)\n",
    "\n",
    "#split training and validation data:\n",
    "X_train, X_valid, y_train, y_valid, indices_train, indices_val = train_test_split(X_train_valid, y_train_valid, indices_train_val, test_size=0.2, random_state=42)\n",
    "#X_train, X_valid, y_train, y_valid = train_test_split(X_train_valid, y_train_valid, test_size=0.2, random_state=42)\n",
    "\n",
    "person_train = person_train_valid[indices_train]\n",
    "person_valid = person_train_valid[indices_val]\n",
    "\n",
    "print ('Training/Valid data shape: {}'.format(X_train.shape))\n",
    "print ('Validation data shape: {}'.format(X_valid.shape))\n",
    "print ('Training/Valid target shape: {}'.format(y_train.shape))\n",
    "print ('Validation target shape: {}'.format(y_valid.shape))\n",
    "print ('Training target shape: {}'.format(indices_train.shape))\n",
    "print ('Validation target shape: {}'.format(indices_val.shape))"
   ]
  },
  {
   "cell_type": "code",
   "execution_count": 8,
   "id": "amino-remainder",
   "metadata": {},
   "outputs": [],
   "source": [
    "def convert_to_one_hot(in_arr):\n",
    "    in_arr = in_arr.reshape((in_arr.shape[0],))\n",
    "    in_arr = in_arr.astype(int)\n",
    "    in_arr_1h = np.zeros((in_arr.size, in_arr.max()+1))\n",
    "    in_arr_1h[np.arange(in_arr.size),in_arr] = 1\n",
    "    return in_arr_1h"
   ]
  },
  {
   "cell_type": "code",
   "execution_count": 9,
   "id": "curious-skating",
   "metadata": {},
   "outputs": [],
   "source": [
    "#convert all vectors to one-hot\n",
    "y_train_valid_1h = convert_to_one_hot(y_train_valid)\n",
    "y_train_1h = convert_to_one_hot(y_train)\n",
    "y_valid_1h = convert_to_one_hot(y_valid)\n",
    "y_test_1h = convert_to_one_hot(y_test)\n",
    "\n",
    "person_train_valid_1h = convert_to_one_hot(person_train_valid)\n",
    "person_train_1h = convert_to_one_hot(person_train)\n",
    "person_valid_1h = convert_to_one_hot(person_valid)\n",
    "person_test_1h = convert_to_one_hot(person_test)"
   ]
  },
  {
   "cell_type": "code",
   "execution_count": null,
   "id": "excellent-residence",
   "metadata": {},
   "outputs": [],
   "source": [
    "# #instantiate and initialize pandas dataframes\n",
    "\n",
    "# columns = ['subject_ix', 'subject_one_hot', 'data_22ch', 'event_class_ix', 'event_class_one_hot']\n",
    "\n",
    "# train_val_df = pd.DataFrame(columns=columns)\n",
    "# train_val_df['subject_ix'] = person_train_valid.reshape((person_train_valid.shape[0],))\n",
    "# train_val_df['subject_one_hot'] = person_train_valid_1h.tolist()\n",
    "# train_val_df['event_class_ix'] = y_train_valid\n",
    "# train_val_df['event_class_one_hot'] = y_train_valid_1h.tolist()\n",
    "# train_val_df['data_22ch'] = X_train_valid.tolist()\n",
    "\n",
    "# test_df = pd.DataFrame(columns=columns)\n",
    "# test_df['subject_ix'] = person_test.reshape((person_test.shape[0],))\n",
    "# test_df['subject_one_hot'] = person_test_1h.tolist()\n",
    "# test_df['event_class_ix'] = y_test\n",
    "# test_df['event_class_one_hot'] = y_test.tolist()\n",
    "# test_df['data_22ch'] = X_test.tolist()"
   ]
  },
  {
   "cell_type": "code",
   "execution_count": 10,
   "id": "rural-meaning",
   "metadata": {},
   "outputs": [],
   "source": [
    "#normalizing and then adding noise to every single training input\n",
    "\n",
    "X_train_valid_norm = np.zeros_like(X_train_valid)\n",
    "\n",
    "for eeg_ix in range(X_train_valid.shape[0]):\n",
    "    for i in range(22):\n",
    "        #normalize the data\n",
    "        y = X_train_valid[eeg_ix,i,:]\n",
    "        mean = np.mean(y)\n",
    "        std = np.std(y)\n",
    "        z = (y-mean)/std\n",
    "        X_train_valid_norm[eeg_ix,i,:] = z"
   ]
  },
  {
   "cell_type": "code",
   "execution_count": 11,
   "id": "beautiful-pharmacy",
   "metadata": {},
   "outputs": [],
   "source": [
    "#normalizing and then adding noise to every single training input\n",
    "\n",
    "X_train_norm = np.zeros_like(X_train)\n",
    "\n",
    "for eeg_ix in range(X_train.shape[0]):\n",
    "    for i in range(22):\n",
    "        #normalize the data\n",
    "        y = X_train[eeg_ix,i,:]\n",
    "        mean = np.mean(y)\n",
    "        std = np.std(y)\n",
    "        z = (y-mean)/std\n",
    "        X_train_norm[eeg_ix,i,:] = z"
   ]
  },
  {
   "cell_type": "code",
   "execution_count": 12,
   "id": "confident-academy",
   "metadata": {},
   "outputs": [],
   "source": [
    "#validation data as well\n",
    "X_valid_norm = np.zeros_like(X_valid)\n",
    "\n",
    "for eeg_ix in range(X_valid.shape[0]):\n",
    "    for i in range(22):\n",
    "        #normalize the data\n",
    "        y = X_valid[eeg_ix,i,:]\n",
    "        mean = np.mean(y)\n",
    "        std = np.std(y)\n",
    "        z = (y-mean)/std\n",
    "        X_valid_norm[eeg_ix,i,:] = z"
   ]
  },
  {
   "cell_type": "code",
   "execution_count": 13,
   "id": "competent-telling",
   "metadata": {},
   "outputs": [],
   "source": [
    "#normalizing and then adding noise to every single test input\n",
    "\n",
    "X_test_norm = np.zeros_like(X_test)\n",
    "\n",
    "for eeg_ix in range(X_test.shape[0]):\n",
    "    for i in range(22):\n",
    "        #normalize the data\n",
    "        y = X_test[eeg_ix,i,:]\n",
    "        mean = np.mean(y)\n",
    "        std = np.std(y)\n",
    "        z = (y-mean)/std\n",
    "        X_test_norm[eeg_ix,i,:] = z"
   ]
  },
  {
   "cell_type": "code",
   "execution_count": 29,
   "id": "contained-julian",
   "metadata": {},
   "outputs": [],
   "source": [
    "#Crop for 12\n",
    "\n",
    "X_train_valid_norm_cropped = X_train_valid_norm[:,:,:500]\n",
    "X_train_norm_cropped = X_train_norm[:,:,:500]\n",
    "X_valid_norm_cropped = X_valid_norm[:,:,:500]\n",
    "X_test_norm_cropped = X_test_norm[:,:,:500]"
   ]
  },
  {
   "cell_type": "code",
   "execution_count": 30,
   "id": "fleet-siemens",
   "metadata": {
    "scrolled": true
   },
   "outputs": [
    {
     "data": {
      "text/plain": [
       "Text(0.5, 1.0, 'CDF of Actions in Test Set')"
      ]
     },
     "execution_count": 30,
     "metadata": {},
     "output_type": "execute_result"
    },
    {
     "data": {
      "image/png": "[encoded data removed]",
      "text/plain": [
       "<Figure size 720x504 with 1 Axes>"
      ]
     },
     "metadata": {
      "needs_background": "light"
     },
     "output_type": "display_data"
    },
    {
     "data": {
      "image/png": "[encoded data removed]",
      "text/plain": [
       "<Figure size 720x504 with 1 Axes>"
      ]
     },
     "metadata": {
      "needs_background": "light"
     },
     "output_type": "display_data"
    },
    {
     "data": {
      "image/png": "[encoded data removed]",
      "text/plain": [
       "<Figure size 720x504 with 1 Axes>"
      ]
     },
     "metadata": {
      "needs_background": "light"
     },
     "output_type": "display_data"
    }
   ],
   "source": [
    "#want to see the distribution of actions, subjects\n",
    "plt.figure(figsize=(10,7))\n",
    "actions_hist_train = plt.hist(y_train)\n",
    "plt.title(\"CDF of Actions in Training Set\")\n",
    "\n",
    "plt.figure(figsize=(10,7))\n",
    "actions_hist_train = plt.hist(y_valid)\n",
    "plt.title(\"CDF of Actions in Validation Set\")\n",
    "\n",
    "plt.figure(figsize=(10,7))\n",
    "actions_hist_train = plt.hist(y_test)\n",
    "plt.title(\"CDF of Actions in Test Set\")"
   ]
  },
  {
   "cell_type": "code",
   "execution_count": 33,
   "id": "monthly-uniform",
   "metadata": {},
   "outputs": [],
   "source": [
    "#instantiate and initialize pandas dataframes\n",
    "\n",
    "columns = ['subject_ix', 'subject_one_hot', 'data_22ch', 'event_class_ix', 'event_class_one_hot']\n",
    "\n",
    "train_df = pd.DataFrame(columns=columns)\n",
    "train_df['subject_ix'] = person_train.reshape((person_train.shape[0],))\n",
    "train_df['subject_one_hot'] = person_train_1h.tolist()\n",
    "train_df['event_class_ix'] = y_train\n",
    "train_df['event_class_one_hot'] = y_train_1h.tolist()\n",
    "train_df['data_22ch'] = X_train.tolist()\n",
    "train_df['data_22ch_norm_crop'] = X_train_norm_cropped.tolist()\n",
    "\n",
    "valid_df = pd.DataFrame(columns=columns)\n",
    "valid_df['subject_ix'] = person_valid.reshape((person_valid.shape[0],))\n",
    "valid_df['subject_one_hot'] = person_valid_1h.tolist()\n",
    "valid_df['event_class_ix'] = y_valid\n",
    "valid_df['event_class_one_hot'] = y_valid_1h.tolist()\n",
    "valid_df['data_22ch'] = X_valid.tolist()\n",
    "valid_df['data_22ch_norm_crop'] = X_valid_norm_cropped.tolist()\n",
    "\n",
    "test_df = pd.DataFrame(columns=columns)\n",
    "test_df['subject_ix'] = person_test.reshape((person_test.shape[0],))\n",
    "test_df['subject_one_hot'] = person_test_1h.tolist()\n",
    "test_df['event_class_ix'] = y_test\n",
    "test_df['event_class_one_hot'] = y_test.tolist()\n",
    "test_df['data_22ch'] = X_test.tolist()\n",
    "test_df['data_22ch_norm_crop'] = X_test_norm_cropped.tolist()"
   ]
  },
  {
   "cell_type": "code",
   "execution_count": 82,
   "id": "radio-arctic",
   "metadata": {},
   "outputs": [
    {
     "data": {
      "text/plain": [
       "array([   0,    1,   11,   17,   18,   20,   23,   40,   60,   79,   81,\n",
       "         88,   91,  106,  110,  123,  132,  151,  158,  166,  171,  174,\n",
       "        175,  180,  183,  222,  227,  228,  230,  234,  235,  236,  244,\n",
       "        264,  269,  290,  296,  312,  316,  331,  335,  388,  392,  395,\n",
       "        400,  419,  427,  428,  450,  460,  474,  485,  497,  509,  513,\n",
       "        517,  526,  536,  539,  544,  567,  568,  571,  572,  573,  599,\n",
       "        600,  605,  613,  614,  645,  653,  660,  668,  685,  686,  700,\n",
       "        707,  708,  711,  724,  727,  736,  741,  749,  755,  792,  794,\n",
       "        867,  870,  886,  887,  890,  896,  902,  916,  922,  936,  965,\n",
       "        974,  988,  998,  999, 1003, 1007, 1018, 1036, 1049, 1050, 1054,\n",
       "       1056, 1068, 1070, 1078, 1090, 1097, 1100, 1106, 1109, 1113, 1123,\n",
       "       1125, 1128, 1131, 1137, 1173, 1180, 1199, 1206, 1267, 1271, 1309,\n",
       "       1316, 1320, 1325, 1327, 1337, 1343, 1353, 1354, 1378, 1379, 1390,\n",
       "       1406, 1414, 1420, 1434, 1446, 1459, 1462, 1467, 1470, 1486, 1487,\n",
       "       1489, 1493, 1498, 1501, 1511, 1512, 1521, 1522, 1526, 1528, 1533,\n",
       "       1556, 1568, 1570, 1584, 1589, 1611, 1619, 1622, 1644, 1646, 1653,\n",
       "       1654, 1658, 1661, 1663, 1670, 1679, 1683])"
      ]
     },
     "execution_count": 82,
     "metadata": {},
     "output_type": "execute_result"
    }
   ],
   "source": [
    "train_df[train_df['subject_ix']==7].index.values"
   ]
  },
  {
   "cell_type": "code",
   "execution_count": 39,
   "id": "material-deployment",
   "metadata": {},
   "outputs": [
    {
     "name": "stdout",
     "output_type": "stream",
     "text": [
      "(1692, 500, 22)\n",
      "(423, 500, 22)\n",
      "(443, 500, 22)\n"
     ]
    }
   ],
   "source": [
    "#n_comp = 18\n",
    "\n",
    "#flip\n",
    "X_train_flipped = np.transpose(X_train_norm_cropped, (0,2,1))\n",
    "X_valid_flipped = np.transpose(X_valid_norm_cropped, (0,2,1))\n",
    "X_test_flipped = np.transpose(X_test_norm_cropped, (0,2,1))\n",
    "\n",
    "print(X_train_flipped.shape)\n",
    "print(X_valid_flipped.shape)\n",
    "print(X_test_flipped.shape)\n",
    "\n",
    "X_train_reshaped = X_train_flipped.reshape((X_train_norm_cropped.shape[0]*X_train_norm_cropped.shape[2], 22)) \n",
    "X_valid_reshaped = X_valid_flipped.reshape((X_valid_norm_cropped.shape[0]*X_valid_norm_cropped.shape[2], 22)) \n",
    "X_test_reshaped = X_test_flipped.reshape((X_test_norm_cropped.shape[0]*X_test_norm_cropped.shape[2], 22)) "
   ]
  },
  {
   "cell_type": "code",
   "execution_count": 40,
   "id": "meaning-duplicate",
   "metadata": {},
   "outputs": [
    {
     "name": "stdout",
     "output_type": "stream",
     "text": [
      "(1692, 500, 15)\n",
      "(1692, 15, 500)\n",
      "(423, 15, 500)\n",
      "(443, 15, 500)\n",
      "(1692, 500, 18)\n",
      "(1692, 18, 500)\n",
      "(423, 18, 500)\n",
      "(443, 18, 500)\n",
      "(1692, 500, 20)\n",
      "(1692, 20, 500)\n",
      "(423, 20, 500)\n",
      "(443, 20, 500)\n"
     ]
    }
   ],
   "source": [
    "n_comps = [15, 18, 20]\n",
    "\n",
    "for n_comp in n_comps:\n",
    "    #try a PCA on the training data\n",
    "    pca = PCA(n_components=n_comp)                  #create the pca object       \n",
    "    pca.fit(X_train_reshaped)                               #fit it to your transformed data\n",
    "    X_train_transformed=np.empty([X_train_norm_cropped.shape[0],X_train_norm_cropped.shape[2],n_comp])\n",
    "    for i in range(len(X_train_flipped)):\n",
    "        #print(X_train_valid_flipped[i].shape)\n",
    "        X_train_transformed[i]=pca.transform(X_train_flipped[i])           #iteratively apply the transformation to each instance of the original dataset\n",
    "\n",
    "    print(X_train_transformed.shape)\n",
    "    X_train_transformed = np.transpose(X_train_transformed, (0,2,1))\n",
    "    print(X_train_transformed.shape)\n",
    "\n",
    "    #now apply that transformation to the validation and test sets\n",
    "    X_valid_transformed=np.empty([X_valid_norm_cropped.shape[0],X_valid_norm_cropped.shape[2],n_comp])\n",
    "    X_test_transformed=np.empty([X_test_norm_cropped.shape[0],X_test_norm_cropped.shape[2],n_comp])\n",
    "\n",
    "    for i in range(len(X_valid_flipped)):\n",
    "        #print(X_train_valid_flipped[i].shape)\n",
    "        X_valid_transformed[i]=pca.transform(X_valid_flipped[i])           #iteratively apply the transformation to each instance of the original dataset\n",
    "\n",
    "    #print(X_train_transformed.shape)\n",
    "    X_valid_transformed = np.transpose(X_valid_transformed, (0,2,1))\n",
    "    print(X_valid_transformed.shape)\n",
    "\n",
    "    for i in range(len(X_test_flipped)):\n",
    "        #print(X_train_valid_flipped[i].shape)\n",
    "        X_test_transformed[i]=pca.transform(X_test_flipped[i])           #iteratively apply the transformation to each instance of the original dataset\n",
    "\n",
    "    #print(X_train_transformed.shape)\n",
    "    X_test_transformed = np.transpose(X_test_transformed, (0,2,1))\n",
    "    print(X_test_transformed.shape)\n",
    "\n",
    "    train_df['data_22ch_norm_crop_pca'+str(n_comp)] = X_train_transformed.tolist()\n",
    "    valid_df['data_22ch_norm_crop_pca'+str(n_comp)] = X_valid_transformed.tolist()\n",
    "    test_df['data_22ch_norm_crop_pca'+str(n_comp)] = X_test_transformed.tolist()"
   ]
  },
  {
   "cell_type": "code",
   "execution_count": null,
   "id": "peripheral-vocabulary",
   "metadata": {},
   "outputs": [],
   "source": []
  },
  {
   "cell_type": "code",
   "execution_count": 34,
   "id": "amazing-antenna",
   "metadata": {},
   "outputs": [],
   "source": [
    "#examples of obtaining train_val and test dataframes from the larger dataframes\n",
    "\n",
    "s0_train_df = train_df[train_df['subject_ix'] == 0]\n",
    "s0_valid_df = valid_df[valid_df['subject_ix'] == 0]\n",
    "s0_test_df = test_df[test_df['subject_ix'] == 0]\n",
    "\n",
    "s1_train_df = train_df[train_df['subject_ix'] == 1]\n",
    "s1_valid_df = valid_df[valid_df['subject_ix'] == 1]\n",
    "s1_test_df = test_df[test_df['subject_ix'] == 1]\n",
    "\n",
    "s2_train_df = train_df[train_df['subject_ix'] == 2]\n",
    "s2_valid_df = valid_df[valid_df['subject_ix'] == 2]\n",
    "s2_test_df = test_df[test_df['subject_ix'] == 2]\n",
    "\n",
    "s3_train_df = train_df[train_df['subject_ix'] == 3]\n",
    "s3_valid_df = valid_df[valid_df['subject_ix'] == 3]\n",
    "s3_test_df = test_df[test_df['subject_ix'] == 3]\n",
    "\n",
    "s4_train_df = train_df[train_df['subject_ix'] == 4]\n",
    "s4_valid_df = valid_df[valid_df['subject_ix'] == 5]\n",
    "s4_test_df = test_df[test_df['subject_ix'] == 4]\n",
    "\n",
    "s5_train_df = train_df[train_df['subject_ix'] == 5]\n",
    "s5_valid_df = valid_df[valid_df['subject_ix'] == 5]\n",
    "s5_test_df = test_df[test_df['subject_ix'] == 5]\n",
    "\n",
    "s6_train_df = train_df[train_df['subject_ix'] == 6]\n",
    "s6_valid_df = valid_df[valid_df['subject_ix'] == 6]\n",
    "s6_test_df = test_df[test_df['subject_ix'] == 6]\n",
    "\n",
    "s7_train_df = train_df[train_df['subject_ix'] == 7]\n",
    "s7_valid_df = valid_df[valid_df['subject_ix'] == 7]\n",
    "s7_test_df = test_df[test_df['subject_ix'] == 7]\n",
    "\n",
    "s8_train_df = train_df[train_df['subject_ix'] == 8]\n",
    "s8_valid_df = valid_df[valid_df['subject_ix'] == 8]\n",
    "s8_test_df = test_df[test_df['subject_ix'] == 8]"
   ]
  },
  {
   "cell_type": "code",
   "execution_count": 35,
   "id": "silent-comfort",
   "metadata": {},
   "outputs": [],
   "source": [
    "#example of grabbing the data from a given subject df\n",
    "s0_X_train = np.array([[[value for value in ch] for ch in run] for run in s0_train_df['data_22ch_norm_crop'].values], ndmin=3)\n",
    "s0_y_train = s0_train_df['subject_ix'].values"
   ]
  },
  {
   "cell_type": "code",
   "execution_count": 62,
   "id": "foreign-falls",
   "metadata": {},
   "outputs": [],
   "source": [
    "def get_X_data(df, n_dims=22):\n",
    "    if n_dims == 22:\n",
    "        return np.array([[[value for value in ch] for ch in run] for run in df['data_22ch_norm_crop'].values], ndmin=3)\n",
    "    else:\n",
    "        return np.array([[[value for value in ch] for ch in run] for run in df['data_22ch_norm_crop_pca'+str(n_dims)].values], ndmin=3)\n"
   ]
  },
  {
   "cell_type": "code",
   "execution_count": 66,
   "id": "musical-portsmouth",
   "metadata": {},
   "outputs": [
    {
     "name": "stdout",
     "output_type": "stream",
     "text": [
      "(192, 22, 500)\n",
      "<class 'numpy.ndarray'>\n"
     ]
    }
   ],
   "source": [
    "#for example\n",
    "\n",
    "s4_X_train = get_X_data(s4_train_df, 22)\n",
    "print(s4_X_train.shape)\n",
    "\n",
    "print(type(s4_X_train[0][10][8:50]))"
   ]
  },
  {
   "cell_type": "code",
   "execution_count": 52,
   "id": "complimentary-terminology",
   "metadata": {},
   "outputs": [],
   "source": [
    "def get_model(n_timesteps=1000, drp=0.85, n_comp=22):\n",
    "    input_ = layers.Input(shape=(n_comp, 500))\n",
    "    r1 = layers.Reshape(target_shape=(n_comp, 500, 1))(input_)\n",
    "    c1 = layers.Conv2D(filters=40, kernel_size=(1,25), data_format='channels_last',\n",
    "                       activation='elu', kernel_regularizer='l2')(r1)\n",
    "    p1 = layers.Permute(dims=(2,1,3))(c1)\n",
    "    r2 = layers.Reshape((476, n_comp*40))(p1)\n",
    "    d1 = layers.Dense(40, activation='elu')(r2)\n",
    "    sq1 = layers.Activation(ksquare)(d1)\n",
    "    ap1 = layers.AveragePooling1D(75, strides=15)(sq1)\n",
    "    log1 = layers.Activation(klog)(ap1)\n",
    "    f1 = layers.Flatten()(log1)\n",
    "    d2 = layers.Dropout(drp)(f1)\n",
    "    output_ = layers.Dense(4, activation='softmax', kernel_regularizer='l2', kernel_initializer=tf.keras.initializers.RandomNormal(stddev=0.01))(d2)\n",
    "\n",
    "    model = models.Model(inputs=input_, outputs=output_, name='shallow_pca_convnet_one_hot')\n",
    "    return model"
   ]
  },
  {
   "cell_type": "code",
   "execution_count": 53,
   "id": "adequate-penguin",
   "metadata": {},
   "outputs": [],
   "source": [
    "def plot_train_hist(loss_hist):\n",
    "    hist = loss_hist.history\n",
    "\n",
    "    fig, axs = plt.subplots(1,2, figsize=(20, 12))\n",
    "\n",
    "    fig.suptitle(\"Training results for dropout={} and n_dims={}\".format(drp, n_comp), fontsize=14)\n",
    "\n",
    "    axs[0].plot(hist['loss'])\n",
    "    axs[0].plot(hist['val_loss'])\n",
    "    axs[0].set_ylabel('loss')\n",
    "    axs[0].set_xlabel('epoch')\n",
    "    axs[0].legend(['train', 'val'])\n",
    "\n",
    "    axs[1].plot(hist['acc'])\n",
    "    axs[1].plot(hist['val_acc'])\n",
    "    axs[1].set_ylabel('accuracy')\n",
    "    axs[1].set_xlabel('epoch')\n",
    "    axs[1].legend(['train', 'val'])"
   ]
  },
  {
   "cell_type": "code",
   "execution_count": 77,
   "id": "textile-tampa",
   "metadata": {},
   "outputs": [
    {
     "name": "stdout",
     "output_type": "stream",
     "text": [
      "<class 'numpy.ndarray'>\n"
     ]
    },
    {
     "ename": "ValueError",
     "evalue": "Failed to convert a NumPy array to a Tensor (Unsupported object type list).",
     "output_type": "error",
     "traceback": [
      "\u001b[0;31m---------------------------------------------------------------------------\u001b[0m",
      "\u001b[0;31mValueError\u001b[0m                                Traceback (most recent call last)",
      "\u001b[0;32m<ipython-input-77-553b473d6a2b>\u001b[0m in \u001b[0;36m<module>\u001b[0;34m\u001b[0m\n\u001b[1;32m     21\u001b[0m                                          \u001b[0;31m#save_best_only=True, monitor='val_acc', mode='max')\u001b[0m\u001b[0;34m\u001b[0m\u001b[0;34m\u001b[0m\u001b[0;34m\u001b[0m\u001b[0m\n\u001b[1;32m     22\u001b[0m \u001b[0;34m\u001b[0m\u001b[0m\n\u001b[0;32m---> 23\u001b[0;31m     loss_hist = model.fit(get_X_data(s_train_df, 22), s_y_train.values, epochs=150,\n\u001b[0m\u001b[1;32m     24\u001b[0m                           \u001b[0mvalidation_data\u001b[0m\u001b[0;34m=\u001b[0m\u001b[0;34m(\u001b[0m\u001b[0ms_X_valid\u001b[0m\u001b[0;34m,\u001b[0m \u001b[0ms_y_valid\u001b[0m\u001b[0;34m.\u001b[0m\u001b[0mvalues\u001b[0m\u001b[0;34m)\u001b[0m\u001b[0;34m,\u001b[0m\u001b[0;34m\u001b[0m\u001b[0;34m\u001b[0m\u001b[0m\n\u001b[1;32m     25\u001b[0m                           \u001b[0mcallbacks\u001b[0m\u001b[0;34m=\u001b[0m\u001b[0;34m[\u001b[0m\u001b[0;34m]\u001b[0m\u001b[0;34m,\u001b[0m\u001b[0;34m\u001b[0m\u001b[0;34m\u001b[0m\u001b[0m\n",
      "\u001b[0;32m~/miniconda3/envs/tf/lib/python3.8/site-packages/tensorflow/python/keras/engine/training.py\u001b[0m in \u001b[0;36m_method_wrapper\u001b[0;34m(self, *args, **kwargs)\u001b[0m\n\u001b[1;32m     64\u001b[0m   \u001b[0;32mdef\u001b[0m \u001b[0m_method_wrapper\u001b[0m\u001b[0;34m(\u001b[0m\u001b[0mself\u001b[0m\u001b[0;34m,\u001b[0m \u001b[0;34m*\u001b[0m\u001b[0margs\u001b[0m\u001b[0;34m,\u001b[0m \u001b[0;34m**\u001b[0m\u001b[0mkwargs\u001b[0m\u001b[0;34m)\u001b[0m\u001b[0;34m:\u001b[0m\u001b[0;34m\u001b[0m\u001b[0;34m\u001b[0m\u001b[0m\n\u001b[1;32m     65\u001b[0m     \u001b[0;32mif\u001b[0m \u001b[0;32mnot\u001b[0m \u001b[0mself\u001b[0m\u001b[0;34m.\u001b[0m\u001b[0m_in_multi_worker_mode\u001b[0m\u001b[0;34m(\u001b[0m\u001b[0;34m)\u001b[0m\u001b[0;34m:\u001b[0m  \u001b[0;31m# pylint: disable=protected-access\u001b[0m\u001b[0;34m\u001b[0m\u001b[0;34m\u001b[0m\u001b[0m\n\u001b[0;32m---> 66\u001b[0;31m       \u001b[0;32mreturn\u001b[0m \u001b[0mmethod\u001b[0m\u001b[0;34m(\u001b[0m\u001b[0mself\u001b[0m\u001b[0;34m,\u001b[0m \u001b[0;34m*\u001b[0m\u001b[0margs\u001b[0m\u001b[0;34m,\u001b[0m \u001b[0;34m**\u001b[0m\u001b[0mkwargs\u001b[0m\u001b[0;34m)\u001b[0m\u001b[0;34m\u001b[0m\u001b[0;34m\u001b[0m\u001b[0m\n\u001b[0m\u001b[1;32m     67\u001b[0m \u001b[0;34m\u001b[0m\u001b[0m\n\u001b[1;32m     68\u001b[0m     \u001b[0;31m# Running inside `run_distribute_coordinator` already.\u001b[0m\u001b[0;34m\u001b[0m\u001b[0;34m\u001b[0m\u001b[0;34m\u001b[0m\u001b[0m\n",
      "\u001b[0;32m~/miniconda3/envs/tf/lib/python3.8/site-packages/tensorflow/python/keras/engine/training.py\u001b[0m in \u001b[0;36mfit\u001b[0;34m(self, x, y, batch_size, epochs, verbose, callbacks, validation_split, validation_data, shuffle, class_weight, sample_weight, initial_epoch, steps_per_epoch, validation_steps, validation_batch_size, validation_freq, max_queue_size, workers, use_multiprocessing)\u001b[0m\n\u001b[1;32m    800\u001b[0m          \u001b[0mtraining_utils\u001b[0m\u001b[0;34m.\u001b[0m\u001b[0mRespectCompiledTrainableState\u001b[0m\u001b[0;34m(\u001b[0m\u001b[0mself\u001b[0m\u001b[0;34m)\u001b[0m\u001b[0;34m:\u001b[0m\u001b[0;34m\u001b[0m\u001b[0;34m\u001b[0m\u001b[0m\n\u001b[1;32m    801\u001b[0m       \u001b[0;31m# Creates a `tf.data.Dataset` and handles batch and epoch iteration.\u001b[0m\u001b[0;34m\u001b[0m\u001b[0;34m\u001b[0m\u001b[0;34m\u001b[0m\u001b[0m\n\u001b[0;32m--> 802\u001b[0;31m       data_handler = data_adapter.DataHandler(\n\u001b[0m\u001b[1;32m    803\u001b[0m           \u001b[0mx\u001b[0m\u001b[0;34m=\u001b[0m\u001b[0mx\u001b[0m\u001b[0;34m,\u001b[0m\u001b[0;34m\u001b[0m\u001b[0;34m\u001b[0m\u001b[0m\n\u001b[1;32m    804\u001b[0m           \u001b[0my\u001b[0m\u001b[0;34m=\u001b[0m\u001b[0my\u001b[0m\u001b[0;34m,\u001b[0m\u001b[0;34m\u001b[0m\u001b[0;34m\u001b[0m\u001b[0m\n",
      "\u001b[0;32m~/miniconda3/envs/tf/lib/python3.8/site-packages/tensorflow/python/keras/engine/data_adapter.py\u001b[0m in \u001b[0;36m__init__\u001b[0;34m(self, x, y, sample_weight, batch_size, steps_per_epoch, initial_epoch, epochs, shuffle, class_weight, max_queue_size, workers, use_multiprocessing, model)\u001b[0m\n\u001b[1;32m   1098\u001b[0m \u001b[0;34m\u001b[0m\u001b[0m\n\u001b[1;32m   1099\u001b[0m     \u001b[0madapter_cls\u001b[0m \u001b[0;34m=\u001b[0m \u001b[0mselect_data_adapter\u001b[0m\u001b[0;34m(\u001b[0m\u001b[0mx\u001b[0m\u001b[0;34m,\u001b[0m \u001b[0my\u001b[0m\u001b[0;34m)\u001b[0m\u001b[0;34m\u001b[0m\u001b[0;34m\u001b[0m\u001b[0m\n\u001b[0;32m-> 1100\u001b[0;31m     self._adapter = adapter_cls(\n\u001b[0m\u001b[1;32m   1101\u001b[0m         \u001b[0mx\u001b[0m\u001b[0;34m,\u001b[0m\u001b[0;34m\u001b[0m\u001b[0;34m\u001b[0m\u001b[0m\n\u001b[1;32m   1102\u001b[0m         \u001b[0my\u001b[0m\u001b[0;34m,\u001b[0m\u001b[0;34m\u001b[0m\u001b[0;34m\u001b[0m\u001b[0m\n",
      "\u001b[0;32m~/miniconda3/envs/tf/lib/python3.8/site-packages/tensorflow/python/keras/engine/data_adapter.py\u001b[0m in \u001b[0;36m__init__\u001b[0;34m(self, x, y, sample_weights, sample_weight_modes, batch_size, epochs, steps, shuffle, **kwargs)\u001b[0m\n\u001b[1;32m    263\u001b[0m                **kwargs):\n\u001b[1;32m    264\u001b[0m     \u001b[0msuper\u001b[0m\u001b[0;34m(\u001b[0m\u001b[0mTensorLikeDataAdapter\u001b[0m\u001b[0;34m,\u001b[0m \u001b[0mself\u001b[0m\u001b[0;34m)\u001b[0m\u001b[0;34m.\u001b[0m\u001b[0m__init__\u001b[0m\u001b[0;34m(\u001b[0m\u001b[0mx\u001b[0m\u001b[0;34m,\u001b[0m \u001b[0my\u001b[0m\u001b[0;34m,\u001b[0m \u001b[0;34m**\u001b[0m\u001b[0mkwargs\u001b[0m\u001b[0;34m)\u001b[0m\u001b[0;34m\u001b[0m\u001b[0;34m\u001b[0m\u001b[0m\n\u001b[0;32m--> 265\u001b[0;31m     \u001b[0mx\u001b[0m\u001b[0;34m,\u001b[0m \u001b[0my\u001b[0m\u001b[0;34m,\u001b[0m \u001b[0msample_weights\u001b[0m \u001b[0;34m=\u001b[0m \u001b[0m_process_tensorlike\u001b[0m\u001b[0;34m(\u001b[0m\u001b[0;34m(\u001b[0m\u001b[0mx\u001b[0m\u001b[0;34m,\u001b[0m \u001b[0my\u001b[0m\u001b[0;34m,\u001b[0m \u001b[0msample_weights\u001b[0m\u001b[0;34m)\u001b[0m\u001b[0;34m)\u001b[0m\u001b[0;34m\u001b[0m\u001b[0;34m\u001b[0m\u001b[0m\n\u001b[0m\u001b[1;32m    266\u001b[0m     sample_weight_modes = broadcast_sample_weight_modes(\n\u001b[1;32m    267\u001b[0m         sample_weights, sample_weight_modes)\n",
      "\u001b[0;32m~/miniconda3/envs/tf/lib/python3.8/site-packages/tensorflow/python/keras/engine/data_adapter.py\u001b[0m in \u001b[0;36m_process_tensorlike\u001b[0;34m(inputs)\u001b[0m\n\u001b[1;32m   1011\u001b[0m     \u001b[0;32mreturn\u001b[0m \u001b[0mx\u001b[0m\u001b[0;34m\u001b[0m\u001b[0;34m\u001b[0m\u001b[0m\n\u001b[1;32m   1012\u001b[0m \u001b[0;34m\u001b[0m\u001b[0m\n\u001b[0;32m-> 1013\u001b[0;31m   \u001b[0minputs\u001b[0m \u001b[0;34m=\u001b[0m \u001b[0mnest\u001b[0m\u001b[0;34m.\u001b[0m\u001b[0mmap_structure\u001b[0m\u001b[0;34m(\u001b[0m\u001b[0m_convert_numpy_and_scipy\u001b[0m\u001b[0;34m,\u001b[0m \u001b[0minputs\u001b[0m\u001b[0;34m)\u001b[0m\u001b[0;34m\u001b[0m\u001b[0;34m\u001b[0m\u001b[0m\n\u001b[0m\u001b[1;32m   1014\u001b[0m   \u001b[0;32mreturn\u001b[0m \u001b[0mnest\u001b[0m\u001b[0;34m.\u001b[0m\u001b[0m_list_to_tuple\u001b[0m\u001b[0;34m(\u001b[0m\u001b[0minputs\u001b[0m\u001b[0;34m)\u001b[0m  \u001b[0;31m# pylint: disable=protected-access\u001b[0m\u001b[0;34m\u001b[0m\u001b[0;34m\u001b[0m\u001b[0m\n\u001b[1;32m   1015\u001b[0m \u001b[0;34m\u001b[0m\u001b[0m\n",
      "\u001b[0;32m~/miniconda3/envs/tf/lib/python3.8/site-packages/tensorflow/python/util/nest.py\u001b[0m in \u001b[0;36mmap_structure\u001b[0;34m(func, *structure, **kwargs)\u001b[0m\n\u001b[1;32m    615\u001b[0m \u001b[0;34m\u001b[0m\u001b[0m\n\u001b[1;32m    616\u001b[0m   return pack_sequence_as(\n\u001b[0;32m--> 617\u001b[0;31m       \u001b[0mstructure\u001b[0m\u001b[0;34m[\u001b[0m\u001b[0;36m0\u001b[0m\u001b[0;34m]\u001b[0m\u001b[0;34m,\u001b[0m \u001b[0;34m[\u001b[0m\u001b[0mfunc\u001b[0m\u001b[0;34m(\u001b[0m\u001b[0;34m*\u001b[0m\u001b[0mx\u001b[0m\u001b[0;34m)\u001b[0m \u001b[0;32mfor\u001b[0m \u001b[0mx\u001b[0m \u001b[0;32min\u001b[0m \u001b[0mentries\u001b[0m\u001b[0;34m]\u001b[0m\u001b[0;34m,\u001b[0m\u001b[0;34m\u001b[0m\u001b[0;34m\u001b[0m\u001b[0m\n\u001b[0m\u001b[1;32m    618\u001b[0m       expand_composites=expand_composites)\n\u001b[1;32m    619\u001b[0m \u001b[0;34m\u001b[0m\u001b[0m\n",
      "\u001b[0;32m~/miniconda3/envs/tf/lib/python3.8/site-packages/tensorflow/python/util/nest.py\u001b[0m in \u001b[0;36m<listcomp>\u001b[0;34m(.0)\u001b[0m\n\u001b[1;32m    615\u001b[0m \u001b[0;34m\u001b[0m\u001b[0m\n\u001b[1;32m    616\u001b[0m   return pack_sequence_as(\n\u001b[0;32m--> 617\u001b[0;31m       \u001b[0mstructure\u001b[0m\u001b[0;34m[\u001b[0m\u001b[0;36m0\u001b[0m\u001b[0;34m]\u001b[0m\u001b[0;34m,\u001b[0m \u001b[0;34m[\u001b[0m\u001b[0mfunc\u001b[0m\u001b[0;34m(\u001b[0m\u001b[0;34m*\u001b[0m\u001b[0mx\u001b[0m\u001b[0;34m)\u001b[0m \u001b[0;32mfor\u001b[0m \u001b[0mx\u001b[0m \u001b[0;32min\u001b[0m \u001b[0mentries\u001b[0m\u001b[0;34m]\u001b[0m\u001b[0;34m,\u001b[0m\u001b[0;34m\u001b[0m\u001b[0;34m\u001b[0m\u001b[0m\n\u001b[0m\u001b[1;32m    618\u001b[0m       expand_composites=expand_composites)\n\u001b[1;32m    619\u001b[0m \u001b[0;34m\u001b[0m\u001b[0m\n",
      "\u001b[0;32m~/miniconda3/envs/tf/lib/python3.8/site-packages/tensorflow/python/keras/engine/data_adapter.py\u001b[0m in \u001b[0;36m_convert_numpy_and_scipy\u001b[0;34m(x)\u001b[0m\n\u001b[1;32m   1006\u001b[0m       \u001b[0;32mif\u001b[0m \u001b[0missubclass\u001b[0m\u001b[0;34m(\u001b[0m\u001b[0mx\u001b[0m\u001b[0;34m.\u001b[0m\u001b[0mdtype\u001b[0m\u001b[0;34m.\u001b[0m\u001b[0mtype\u001b[0m\u001b[0;34m,\u001b[0m \u001b[0mnp\u001b[0m\u001b[0;34m.\u001b[0m\u001b[0mfloating\u001b[0m\u001b[0;34m)\u001b[0m\u001b[0;34m:\u001b[0m\u001b[0;34m\u001b[0m\u001b[0;34m\u001b[0m\u001b[0m\n\u001b[1;32m   1007\u001b[0m         \u001b[0mdtype\u001b[0m \u001b[0;34m=\u001b[0m \u001b[0mbackend\u001b[0m\u001b[0;34m.\u001b[0m\u001b[0mfloatx\u001b[0m\u001b[0;34m(\u001b[0m\u001b[0;34m)\u001b[0m\u001b[0;34m\u001b[0m\u001b[0;34m\u001b[0m\u001b[0m\n\u001b[0;32m-> 1008\u001b[0;31m       \u001b[0;32mreturn\u001b[0m \u001b[0mops\u001b[0m\u001b[0;34m.\u001b[0m\u001b[0mconvert_to_tensor\u001b[0m\u001b[0;34m(\u001b[0m\u001b[0mx\u001b[0m\u001b[0;34m,\u001b[0m \u001b[0mdtype\u001b[0m\u001b[0;34m=\u001b[0m\u001b[0mdtype\u001b[0m\u001b[0;34m)\u001b[0m\u001b[0;34m\u001b[0m\u001b[0;34m\u001b[0m\u001b[0m\n\u001b[0m\u001b[1;32m   1009\u001b[0m     \u001b[0;32melif\u001b[0m \u001b[0mscipy_sparse\u001b[0m \u001b[0;32mand\u001b[0m \u001b[0mscipy_sparse\u001b[0m\u001b[0;34m.\u001b[0m\u001b[0missparse\u001b[0m\u001b[0;34m(\u001b[0m\u001b[0mx\u001b[0m\u001b[0;34m)\u001b[0m\u001b[0;34m:\u001b[0m\u001b[0;34m\u001b[0m\u001b[0;34m\u001b[0m\u001b[0m\n\u001b[1;32m   1010\u001b[0m       \u001b[0;32mreturn\u001b[0m \u001b[0m_scipy_sparse_to_sparse_tensor\u001b[0m\u001b[0;34m(\u001b[0m\u001b[0mx\u001b[0m\u001b[0;34m)\u001b[0m\u001b[0;34m\u001b[0m\u001b[0;34m\u001b[0m\u001b[0m\n",
      "\u001b[0;32m~/miniconda3/envs/tf/lib/python3.8/site-packages/tensorflow/python/framework/ops.py\u001b[0m in \u001b[0;36mconvert_to_tensor\u001b[0;34m(value, dtype, name, as_ref, preferred_dtype, dtype_hint, ctx, accepted_result_types)\u001b[0m\n\u001b[1;32m   1339\u001b[0m \u001b[0;34m\u001b[0m\u001b[0m\n\u001b[1;32m   1340\u001b[0m     \u001b[0;32mif\u001b[0m \u001b[0mret\u001b[0m \u001b[0;32mis\u001b[0m \u001b[0;32mNone\u001b[0m\u001b[0;34m:\u001b[0m\u001b[0;34m\u001b[0m\u001b[0;34m\u001b[0m\u001b[0m\n\u001b[0;32m-> 1341\u001b[0;31m       \u001b[0mret\u001b[0m \u001b[0;34m=\u001b[0m \u001b[0mconversion_func\u001b[0m\u001b[0;34m(\u001b[0m\u001b[0mvalue\u001b[0m\u001b[0;34m,\u001b[0m \u001b[0mdtype\u001b[0m\u001b[0;34m=\u001b[0m\u001b[0mdtype\u001b[0m\u001b[0;34m,\u001b[0m \u001b[0mname\u001b[0m\u001b[0;34m=\u001b[0m\u001b[0mname\u001b[0m\u001b[0;34m,\u001b[0m \u001b[0mas_ref\u001b[0m\u001b[0;34m=\u001b[0m\u001b[0mas_ref\u001b[0m\u001b[0;34m)\u001b[0m\u001b[0;34m\u001b[0m\u001b[0;34m\u001b[0m\u001b[0m\n\u001b[0m\u001b[1;32m   1342\u001b[0m \u001b[0;34m\u001b[0m\u001b[0m\n\u001b[1;32m   1343\u001b[0m     \u001b[0;32mif\u001b[0m \u001b[0mret\u001b[0m \u001b[0;32mis\u001b[0m \u001b[0mNotImplemented\u001b[0m\u001b[0;34m:\u001b[0m\u001b[0;34m\u001b[0m\u001b[0;34m\u001b[0m\u001b[0m\n",
      "\u001b[0;32m~/miniconda3/envs/tf/lib/python3.8/site-packages/tensorflow/python/framework/tensor_conversion_registry.py\u001b[0m in \u001b[0;36m_default_conversion_function\u001b[0;34m(***failed resolving arguments***)\u001b[0m\n\u001b[1;32m     50\u001b[0m \u001b[0;32mdef\u001b[0m \u001b[0m_default_conversion_function\u001b[0m\u001b[0;34m(\u001b[0m\u001b[0mvalue\u001b[0m\u001b[0;34m,\u001b[0m \u001b[0mdtype\u001b[0m\u001b[0;34m,\u001b[0m \u001b[0mname\u001b[0m\u001b[0;34m,\u001b[0m \u001b[0mas_ref\u001b[0m\u001b[0;34m)\u001b[0m\u001b[0;34m:\u001b[0m\u001b[0;34m\u001b[0m\u001b[0;34m\u001b[0m\u001b[0m\n\u001b[1;32m     51\u001b[0m   \u001b[0;32mdel\u001b[0m \u001b[0mas_ref\u001b[0m  \u001b[0;31m# Unused.\u001b[0m\u001b[0;34m\u001b[0m\u001b[0;34m\u001b[0m\u001b[0m\n\u001b[0;32m---> 52\u001b[0;31m   \u001b[0;32mreturn\u001b[0m \u001b[0mconstant_op\u001b[0m\u001b[0;34m.\u001b[0m\u001b[0mconstant\u001b[0m\u001b[0;34m(\u001b[0m\u001b[0mvalue\u001b[0m\u001b[0;34m,\u001b[0m \u001b[0mdtype\u001b[0m\u001b[0;34m,\u001b[0m \u001b[0mname\u001b[0m\u001b[0;34m=\u001b[0m\u001b[0mname\u001b[0m\u001b[0;34m)\u001b[0m\u001b[0;34m\u001b[0m\u001b[0;34m\u001b[0m\u001b[0m\n\u001b[0m\u001b[1;32m     53\u001b[0m \u001b[0;34m\u001b[0m\u001b[0m\n\u001b[1;32m     54\u001b[0m \u001b[0;34m\u001b[0m\u001b[0m\n",
      "\u001b[0;32m~/miniconda3/envs/tf/lib/python3.8/site-packages/tensorflow/python/framework/constant_op.py\u001b[0m in \u001b[0;36mconstant\u001b[0;34m(value, dtype, shape, name)\u001b[0m\n\u001b[1;32m    259\u001b[0m     \u001b[0mValueError\u001b[0m\u001b[0;34m:\u001b[0m \u001b[0;32mif\u001b[0m \u001b[0mcalled\u001b[0m \u001b[0mon\u001b[0m \u001b[0ma\u001b[0m \u001b[0msymbolic\u001b[0m \u001b[0mtensor\u001b[0m\u001b[0;34m.\u001b[0m\u001b[0;34m\u001b[0m\u001b[0;34m\u001b[0m\u001b[0m\n\u001b[1;32m    260\u001b[0m   \"\"\"\n\u001b[0;32m--> 261\u001b[0;31m   return _constant_impl(value, dtype, shape, name, verify_shape=False,\n\u001b[0m\u001b[1;32m    262\u001b[0m                         allow_broadcast=True)\n\u001b[1;32m    263\u001b[0m \u001b[0;34m\u001b[0m\u001b[0m\n",
      "\u001b[0;32m~/miniconda3/envs/tf/lib/python3.8/site-packages/tensorflow/python/framework/constant_op.py\u001b[0m in \u001b[0;36m_constant_impl\u001b[0;34m(value, dtype, shape, name, verify_shape, allow_broadcast)\u001b[0m\n\u001b[1;32m    268\u001b[0m   \u001b[0mctx\u001b[0m \u001b[0;34m=\u001b[0m \u001b[0mcontext\u001b[0m\u001b[0;34m.\u001b[0m\u001b[0mcontext\u001b[0m\u001b[0;34m(\u001b[0m\u001b[0;34m)\u001b[0m\u001b[0;34m\u001b[0m\u001b[0;34m\u001b[0m\u001b[0m\n\u001b[1;32m    269\u001b[0m   \u001b[0;32mif\u001b[0m \u001b[0mctx\u001b[0m\u001b[0;34m.\u001b[0m\u001b[0mexecuting_eagerly\u001b[0m\u001b[0;34m(\u001b[0m\u001b[0;34m)\u001b[0m\u001b[0;34m:\u001b[0m\u001b[0;34m\u001b[0m\u001b[0;34m\u001b[0m\u001b[0m\n\u001b[0;32m--> 270\u001b[0;31m     \u001b[0mt\u001b[0m \u001b[0;34m=\u001b[0m \u001b[0mconvert_to_eager_tensor\u001b[0m\u001b[0;34m(\u001b[0m\u001b[0mvalue\u001b[0m\u001b[0;34m,\u001b[0m \u001b[0mctx\u001b[0m\u001b[0;34m,\u001b[0m \u001b[0mdtype\u001b[0m\u001b[0;34m)\u001b[0m\u001b[0;34m\u001b[0m\u001b[0;34m\u001b[0m\u001b[0m\n\u001b[0m\u001b[1;32m    271\u001b[0m     \u001b[0;32mif\u001b[0m \u001b[0mshape\u001b[0m \u001b[0;32mis\u001b[0m \u001b[0;32mNone\u001b[0m\u001b[0;34m:\u001b[0m\u001b[0;34m\u001b[0m\u001b[0;34m\u001b[0m\u001b[0m\n\u001b[1;32m    272\u001b[0m       \u001b[0;32mreturn\u001b[0m \u001b[0mt\u001b[0m\u001b[0;34m\u001b[0m\u001b[0;34m\u001b[0m\u001b[0m\n",
      "\u001b[0;32m~/miniconda3/envs/tf/lib/python3.8/site-packages/tensorflow/python/framework/constant_op.py\u001b[0m in \u001b[0;36mconvert_to_eager_tensor\u001b[0;34m(value, ctx, dtype)\u001b[0m\n\u001b[1;32m     94\u001b[0m       \u001b[0mdtype\u001b[0m \u001b[0;34m=\u001b[0m \u001b[0mdtypes\u001b[0m\u001b[0;34m.\u001b[0m\u001b[0mas_dtype\u001b[0m\u001b[0;34m(\u001b[0m\u001b[0mdtype\u001b[0m\u001b[0;34m)\u001b[0m\u001b[0;34m.\u001b[0m\u001b[0mas_datatype_enum\u001b[0m\u001b[0;34m\u001b[0m\u001b[0;34m\u001b[0m\u001b[0m\n\u001b[1;32m     95\u001b[0m   \u001b[0mctx\u001b[0m\u001b[0;34m.\u001b[0m\u001b[0mensure_initialized\u001b[0m\u001b[0;34m(\u001b[0m\u001b[0;34m)\u001b[0m\u001b[0;34m\u001b[0m\u001b[0;34m\u001b[0m\u001b[0m\n\u001b[0;32m---> 96\u001b[0;31m   \u001b[0;32mreturn\u001b[0m \u001b[0mops\u001b[0m\u001b[0;34m.\u001b[0m\u001b[0mEagerTensor\u001b[0m\u001b[0;34m(\u001b[0m\u001b[0mvalue\u001b[0m\u001b[0;34m,\u001b[0m \u001b[0mctx\u001b[0m\u001b[0;34m.\u001b[0m\u001b[0mdevice_name\u001b[0m\u001b[0;34m,\u001b[0m \u001b[0mdtype\u001b[0m\u001b[0;34m)\u001b[0m\u001b[0;34m\u001b[0m\u001b[0;34m\u001b[0m\u001b[0m\n\u001b[0m\u001b[1;32m     97\u001b[0m \u001b[0;34m\u001b[0m\u001b[0m\n\u001b[1;32m     98\u001b[0m \u001b[0;34m\u001b[0m\u001b[0m\n",
      "\u001b[0;31mValueError\u001b[0m: Failed to convert a NumPy array to a Tensor (Unsupported object type list)."
     ]
    }
   ],
   "source": [
    "#Now let's train a model on the full-scale data for all subjects\n",
    "\n",
    "for subject_ix in range(9):\n",
    "    s_train_df = train_df[train_df['subject_ix'] == subject_ix]\n",
    "    s_valid_df = valid_df[valid_df['subject_ix'] == subject_ix]\n",
    "    s_test_df = test_df[test_df['subject_ix'] == subject_ix]\n",
    "    \n",
    "    s_X_train = np.array(get_X_data(s_train_df, 22))\n",
    "    s_X_valid = get_X_data(s_valid_df, 22)\n",
    "    s_X_test = get_X_data(s_test_df, 22)\n",
    "    \n",
    "    s_y_train = s_train_df['event_class_one_hot']\n",
    "    s_y_valid = s_valid_df['event_class_one_hot']\n",
    "    s_y_test = s_test_df['event_class_one_hot']\n",
    "    \n",
    "    print(type(s_y_train.values))\n",
    "    \n",
    "    model = get_model(n_timesteps=500, drp=0.85, n_comp=22)\n",
    "    model.compile(optimizer='adam', loss='categorical_crossentropy', metrics=['acc'])\n",
    "    #mcp_save = callbacks.ModelCheckpoint('.mdl_wts_best_acc' + str(n_comp) + '_dims.hdf5',\n",
    "                                         #save_best_only=True, monitor='val_acc', mode='max')\n",
    "    \n",
    "    loss_hist = model.fit(get_X_data(s_train_df, 22), s_y_train.values, epochs=150,\n",
    "                          validation_data=(s_X_valid, s_y_valid.values),\n",
    "                          callbacks=[], \n",
    "                          verbose=True)\n",
    "    \n",
    "    plot_train_hist(loss_hist)\n",
    "    \n",
    "    # Evaluate the model on the test data using `evaluate`\n",
    "    #print(\"Evaluate final step on test data\")\n",
    "    results = model.evaluate(s_X_test, s_y_test, batch_size=32)\n",
    "    print(\"final test loss, test acc:\", results)"
   ]
  },
  {
   "cell_type": "code",
   "execution_count": null,
   "id": "seeing-promise",
   "metadata": {},
   "outputs": [],
   "source": []
  },
  {
   "cell_type": "code",
   "execution_count": null,
   "id": "retained-zealand",
   "metadata": {},
   "outputs": [],
   "source": []
  },
  {
   "cell_type": "code",
   "execution_count": null,
   "id": "lesser-breast",
   "metadata": {},
   "outputs": [],
   "source": []
  },
  {
   "cell_type": "code",
   "execution_count": null,
   "id": "original-finish",
   "metadata": {},
   "outputs": [],
   "source": []
  },
  {
   "cell_type": "code",
   "execution_count": null,
   "id": "informational-kentucky",
   "metadata": {},
   "outputs": [],
   "source": []
  },
  {
   "cell_type": "code",
   "execution_count": null,
   "id": "placed-reservation",
   "metadata": {},
   "outputs": [],
   "source": []
  },
  {
   "cell_type": "code",
   "execution_count": null,
   "id": "beginning-reading",
   "metadata": {},
   "outputs": [],
   "source": []
  },
  {
   "cell_type": "code",
   "execution_count": null,
   "id": "double-leadership",
   "metadata": {},
   "outputs": [],
   "source": []
  }
 ],
 "metadata": {
  "kernelspec": {
   "display_name": "Python 3",
   "language": "python",
   "name": "python3"
  },
  "language_info": {
   "codemirror_mode": {
    "name": "ipython",
    "version": 3
   },
   "file_extension": ".py",
   "mimetype": "text/x-python",
   "name": "python",
   "nbconvert_exporter": "python",
   "pygments_lexer": "ipython3",
   "version": "3.8.5"
  }
 },
 "nbformat": 4,
 "nbformat_minor": 5
}
