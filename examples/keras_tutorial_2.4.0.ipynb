{
 "cells": [
  {
   "cell_type": "markdown",
   "metadata": {},
   "source": [
    "### Imports"
   ]
  },
  {
   "cell_type": "code",
   "execution_count": 1,
   "metadata": {},
   "outputs": [],
   "source": [
    "import numpy as np\n",
    "import matplotlib.pyplot as plt\n",
    "import time\n",
    "import datetime"
   ]
  },
  {
   "cell_type": "code",
   "execution_count": 2,
   "metadata": {},
   "outputs": [],
   "source": [
    "import tensorflow as tf\n",
    "from tensorflow import keras\n",
    "import tensorflow.keras.models as models\n",
    "# We use models.Model which is the same as keras.Model\n",
    "import tensorflow.keras.layers as layers"
   ]
  },
  {
   "cell_type": "code",
   "execution_count": 3,
   "metadata": {
    "scrolled": true
   },
   "outputs": [
    {
     "name": "stdout",
     "output_type": "stream",
     "text": [
      "2.4.0\n",
      "2.4.0\n"
     ]
    }
   ],
   "source": [
    "print(tf.__version__)\n",
    "print(keras.__version__)"
   ]
  },
  {
   "cell_type": "markdown",
   "metadata": {},
   "source": [
    "### Data setup"
   ]
  },
  {
   "cell_type": "code",
   "execution_count": 4,
   "metadata": {},
   "outputs": [],
   "source": [
    "# load data\n",
    "X_test = np.load(\"X_test.npy\")\n",
    "y_test = np.load(\"y_test.npy\")\n",
    "person_train_valid = np.load(\"person_train_valid.npy\")\n",
    "X_train_valid = np.load(\"X_train_valid.npy\")\n",
    "y_train_valid = np.load(\"y_train_valid.npy\")\n",
    "person_test = np.load(\"person_test.npy\")"
   ]
  },
  {
   "cell_type": "code",
   "execution_count": 5,
   "metadata": {},
   "outputs": [],
   "source": [
    "# adjust label values\n",
    "y_train_valid -= 769\n",
    "y_test -= 769"
   ]
  },
  {
   "cell_type": "code",
   "execution_count": 6,
   "metadata": {},
   "outputs": [
    {
     "name": "stdout",
     "output_type": "stream",
     "text": [
      "Training/Valid data shape: (2115, 22, 1000)\n",
      "Test data shape: (443, 22, 1000)\n",
      "Training/Valid target shape: (2115,)\n",
      "Test target shape: (443,)\n",
      "Person train/valid shape: (2115, 1)\n",
      "Person test shape: (443, 1)\n"
     ]
    }
   ],
   "source": [
    "print ('Training/Valid data shape: {}'.format(X_train_valid.shape))\n",
    "print ('Test data shape: {}'.format(X_test.shape))\n",
    "print ('Training/Valid target shape: {}'.format(y_train_valid.shape))\n",
    "print ('Test target shape: {}'.format(y_test.shape))\n",
    "print ('Person train/valid shape: {}'.format(person_train_valid.shape))\n",
    "print ('Person test shape: {}'.format(person_test.shape))"
   ]
  },
  {
   "cell_type": "code",
   "execution_count": 7,
   "metadata": {},
   "outputs": [],
   "source": [
    "# split into train and validation set. Assumes iid\n",
    "perm = np.random.permutation(X_train_valid.shape[0])\n",
    "numTrain = int(0.8*X_train_valid.shape[0])\n",
    "numVal = X_train_valid.shape[0] - numTrain\n",
    "Xtrain = X_train_valid[perm[0:numTrain]]\n",
    "ytrain = y_train_valid[perm[0:numTrain]]\n",
    "Xval = X_train_valid[perm[numTrain: ]]\n",
    "yval = y_train_valid[perm[numTrain: ]]"
   ]
  },
  {
   "cell_type": "code",
   "execution_count": null,
   "metadata": {},
   "outputs": [],
   "source": []
  },
  {
   "cell_type": "markdown",
   "metadata": {},
   "source": [
    "### Fully-connected (Dense) and RNN layers. Compiling a model."
   ]
  },
  {
   "cell_type": "code",
   "execution_count": 8,
   "metadata": {},
   "outputs": [],
   "source": [
    "hidden_dim = 20"
   ]
  },
  {
   "cell_type": "code",
   "execution_count": 9,
   "metadata": {},
   "outputs": [],
   "source": [
    "# Building a Sequential model:\n",
    "model = models.Sequential()\n",
    "model.add(layers.Permute((2, 1), input_shape=(22, 1000))) # (batch, 22, 1000) -> (batch, 1000, 22)\n",
    "model.add(layers.SimpleRNN(hidden_dim)) # (batch, 1000, 22) -> (batch, hidden_dim)\n",
    "                                        # Use return_sequences=True to use in cascaded RNNs\n",
    "model.add(layers.Dense(4, activation='softmax')) # (batch, hidden_dim) -> (batch, 4)\n",
    "model.compile('adam', 'sparse_categorical_crossentropy', metrics=['acc'])\\\n",
    "    # Need to compile model before running\n",
    "    # use optimizer='sgd' if desired. Seems to be case-insensitive\n",
    "    # use loss = 'categorical_crossentropy' for one-hot labels\n",
    "    # see https://www.tensorflow.org/api_docs/python/tf/keras/metrics for other metrics.\n",
    "    #     Metrics might not have string names."
   ]
  },
  {
   "cell_type": "code",
   "execution_count": 10,
   "metadata": {},
   "outputs": [
    {
     "name": "stdout",
     "output_type": "stream",
     "text": [
      "Model: \"sequential\"\n",
      "_________________________________________________________________\n",
      "Layer (type)                 Output Shape              Param #   \n",
      "=================================================================\n",
      "permute (Permute)            (None, 1000, 22)          0         \n",
      "_________________________________________________________________\n",
      "simple_rnn (SimpleRNN)       (None, 20)                860       \n",
      "_________________________________________________________________\n",
      "dense (Dense)                (None, 4)                 84        \n",
      "=================================================================\n",
      "Total params: 944\n",
      "Trainable params: 944\n",
      "Non-trainable params: 0\n",
      "_________________________________________________________________\n"
     ]
    }
   ],
   "source": [
    "model.summary()"
   ]
  },
  {
   "cell_type": "code",
   "execution_count": null,
   "metadata": {},
   "outputs": [],
   "source": []
  },
  {
   "cell_type": "code",
   "execution_count": 11,
   "metadata": {},
   "outputs": [],
   "source": [
    "# Equivalent functional declaration:\n",
    "inputs = layers.Input(shape=(22, 1000), name='inputs')\n",
    "    # Needed for first layer. Expects input of (batch, 22, 1000)\n",
    "    # We can also name our layers. Useful for getting a layer by a string name.\n",
    "p1 = layers.Permute((2, 1), name='p1')(inputs)\n",
    "    # Format is ClassName(*args, **kwargs)(upstream_layer)\n",
    "    # Permute: count batch dimension as 0\n",
    "rnn = layers.SimpleRNN(hidden_dim, name='rnn')(p1)\n",
    "outputs = layers.Dense(4, activation='softmax', name='outputs')(rnn)\n",
    "model = models.Model(inputs=inputs, outputs=outputs, name='functional_model') # or keras.Model(*, **)\n",
    "    # Need to declare a model specifying input and output layers.\n",
    "    # Can pass lists of layers instead.\n",
    "    # We can also name our model.\n",
    "model.compile('adam', 'sparse_categorical_crossentropy', metrics=['acc']) # Compiling is the same."
   ]
  },
  {
   "cell_type": "code",
   "execution_count": 12,
   "metadata": {},
   "outputs": [
    {
     "name": "stdout",
     "output_type": "stream",
     "text": [
      "(22, 20)\n",
      "(20, 20)\n",
      "(20,)\n"
     ]
    }
   ],
   "source": [
    "rnn_weights = model.get_layer('rnn').get_weights()\n",
    "# Dense layer: 22->20\n",
    "# Recurrent weight: 20x20, i.e. hidden_dim x hidden_dim\n",
    "# bias: 20\n",
    "for w in rnn_weights:\n",
    "    print(w.shape)"
   ]
  },
  {
   "cell_type": "code",
   "execution_count": 13,
   "metadata": {},
   "outputs": [
    {
     "name": "stdout",
     "output_type": "stream",
     "text": [
      "Model: \"functional_model\"\n",
      "_________________________________________________________________\n",
      "Layer (type)                 Output Shape              Param #   \n",
      "=================================================================\n",
      "inputs (InputLayer)          [(None, 22, 1000)]        0         \n",
      "_________________________________________________________________\n",
      "p1 (Permute)                 (None, 1000, 22)          0         \n",
      "_________________________________________________________________\n",
      "rnn (SimpleRNN)              (None, 20)                860       \n",
      "_________________________________________________________________\n",
      "outputs (Dense)              (None, 4)                 84        \n",
      "=================================================================\n",
      "Total params: 944\n",
      "Trainable params: 944\n",
      "Non-trainable params: 0\n",
      "_________________________________________________________________\n"
     ]
    }
   ],
   "source": [
    "model.summary()"
   ]
  },
  {
   "cell_type": "code",
   "execution_count": 14,
   "metadata": {},
   "outputs": [
    {
     "name": "stdout",
     "output_type": "stream",
     "text": [
      "<class 'tensorflow.python.framework.ops.EagerTensor'> (423, 20)\n"
     ]
    }
   ],
   "source": [
    "# If you want an intermediate output, compile another model:\n",
    "rnn_output = models.Model(inputs=inputs, outputs=model.get_layer('rnn').output)\n",
    "    # Can pass the object reference (e.g. inputs) or the layer output (model.get_layer('rnn').output)\n",
    "out = rnn_output(Xval)\n",
    "print(type(out), out.shape)"
   ]
  },
  {
   "cell_type": "code",
   "execution_count": 15,
   "metadata": {},
   "outputs": [
    {
     "data": {
      "text/plain": [
       "<tensorflow.python.keras.layers.core.Dense at 0x198a20f7ac8>"
      ]
     },
     "execution_count": 15,
     "metadata": {},
     "output_type": "execute_result"
    }
   ],
   "source": [
    "# Adding weight and activity regularizers:\n",
    "from tensorflow.keras.regularizers import L1, L2\n",
    "layers.Dense(4, activation='softmax', kernel_regularizer=L1(0.01), activity_regularizer=L2(0.01))"
   ]
  },
  {
   "cell_type": "code",
   "execution_count": 23,
   "metadata": {},
   "outputs": [],
   "source": [
    "# Concatenating layers\n",
    "inputs = layers.Input(shape=(22, 1000))\n",
    "d1 = layers.Dense(20, activation='relu', kernel_regularizer=L1(0.01))(inputs)\n",
    "d2 = layers.Dense(10, activation='relu', kernel_regularizer=L2(0.01), activity_regularizer=L1(0.001))(inputs)\n",
    "cat1 = layers.Concatenate()([d1, d2])\n",
    "f1 = layers.Flatten()(cat1)\n",
    "outputs = layers.Dense(4, activation='softmax')(f1)"
   ]
  },
  {
   "cell_type": "code",
   "execution_count": 24,
   "metadata": {},
   "outputs": [
    {
     "name": "stdout",
     "output_type": "stream",
     "text": [
      "Model: \"model_1\"\n",
      "__________________________________________________________________________________________________\n",
      "Layer (type)                    Output Shape         Param #     Connected to                     \n",
      "==================================================================================================\n",
      "input_2 (InputLayer)            [(None, 22, 1000)]   0                                            \n",
      "__________________________________________________________________________________________________\n",
      "dense_5 (Dense)                 (None, 22, 20)       20020       input_2[0][0]                    \n",
      "__________________________________________________________________________________________________\n",
      "dense_6 (Dense)                 (None, 22, 10)       10010       input_2[0][0]                    \n",
      "__________________________________________________________________________________________________\n",
      "concatenate_1 (Concatenate)     (None, 22, 30)       0           dense_5[0][0]                    \n",
      "                                                                 dense_6[0][0]                    \n",
      "__________________________________________________________________________________________________\n",
      "flatten_1 (Flatten)             (None, 660)          0           concatenate_1[0][0]              \n",
      "__________________________________________________________________________________________________\n",
      "dense_7 (Dense)                 (None, 4)            2644        flatten_1[0][0]                  \n",
      "==================================================================================================\n",
      "Total params: 32,674\n",
      "Trainable params: 32,674\n",
      "Non-trainable params: 0\n",
      "__________________________________________________________________________________________________\n"
     ]
    }
   ],
   "source": [
    "model = models.Model(inputs=inputs, outputs=outputs)\n",
    "model.summary()"
   ]
  },
  {
   "cell_type": "code",
   "execution_count": null,
   "metadata": {},
   "outputs": [],
   "source": []
  },
  {
   "cell_type": "markdown",
   "metadata": {},
   "source": [
    "### Training a model:"
   ]
  },
  {
   "cell_type": "code",
   "execution_count": 17,
   "metadata": {},
   "outputs": [],
   "source": [
    "# For visualization via TensorBoard\n",
    "logdir = \"logs/scalars/\" + datetime.datetime.now().strftime(\"%Y%m%d-%H%M%S\")\n",
    "tensorboard_callback = keras.callbacks.TensorBoard(log_dir=logdir)"
   ]
  },
  {
   "cell_type": "code",
   "execution_count": 18,
   "metadata": {},
   "outputs": [],
   "source": [
    "# See also: lr_scheduler"
   ]
  },
  {
   "cell_type": "code",
   "execution_count": 19,
   "metadata": {},
   "outputs": [
    {
     "name": "stdout",
     "output_type": "stream",
     "text": [
      "Epoch 1/5\n",
      "53/53 [==============================] - 26s 447ms/step - loss: 1.9769 - acc: 0.2483 - val_loss: 1.5495 - val_acc: 0.2813\n",
      "Epoch 2/5\n",
      "53/53 [==============================] - 17s 319ms/step - loss: 1.5497 - acc: 0.2663 - val_loss: 1.4999 - val_acc: 0.2459\n",
      "Epoch 3/5\n",
      "53/53 [==============================] - 31s 583ms/step - loss: 1.4549 - acc: 0.2921 - val_loss: 1.4705 - val_acc: 0.2459\n",
      "Epoch 4/5\n",
      "53/53 [==============================] - 23s 442ms/step - loss: 1.4415 - acc: 0.2755 - val_loss: 1.4610 - val_acc: 0.2482\n",
      "Epoch 5/5\n",
      "53/53 [==============================] - 17s 324ms/step - loss: 1.4145 - acc: 0.3009 - val_loss: 1.4529 - val_acc: 0.2506\n"
     ]
    }
   ],
   "source": [
    "loss_hist = model.fit(Xtrain, ytrain, validation_data=(Xval, yval), epochs=5, callbacks=[tensorboard_callback])"
   ]
  },
  {
   "cell_type": "code",
   "execution_count": 20,
   "metadata": {},
   "outputs": [],
   "source": [
    "# Necessary for %tensorboard ...\n",
    "%load_ext tensorboard"
   ]
  },
  {
   "cell_type": "code",
   "execution_count": 22,
   "metadata": {},
   "outputs": [
    {
     "data": {
      "text/plain": [
       "Reusing TensorBoard on port 7000 (pid 5624), started 0:53:24 ago. (Use '!kill 5624' to kill it.)"
      ]
     },
     "metadata": {},
     "output_type": "display_data"
    },
    {
     "data": {
      "text/html": [
       "\n",
       "      <iframe id=\"tensorboard-frame-4b8a5cfcbf2675b4\" width=\"100%\" height=\"800\" frameborder=\"0\">\n",
       "      </iframe>\n",
       "      <script>\n",
       "        (function() {\n",
       "          const frame = document.getElementById(\"tensorboard-frame-4b8a5cfcbf2675b4\");\n",
       "          const url = new URL(\"/\", window.location);\n",
       "          const port = 7000;\n",
       "          if (port) {\n",
       "            url.port = port;\n",
       "          }\n",
       "          frame.src = url;\n",
       "        })();\n",
       "      </script>\n",
       "    "
      ],
      "text/plain": [
       "<IPython.core.display.HTML object>"
      ]
     },
     "metadata": {},
     "output_type": "display_data"
    }
   ],
   "source": [
    "# Re-run after timeout if error, or find and go to localhost:port\n",
    "%tensorboard --logdir logs/scalars --port=7000"
   ]
  },
  {
   "cell_type": "code",
   "execution_count": null,
   "metadata": {},
   "outputs": [],
   "source": [
    "# To shutdown: replace $pid with the process id and run:\n",
    "# Unix:\n",
    "#!kill $pid\n",
    "# Windows:\n",
    "#!Taskkill /PID $pid /F"
   ]
  },
  {
   "cell_type": "code",
   "execution_count": null,
   "metadata": {},
   "outputs": [],
   "source": [
    "hist = loss_hist.history\n",
    "list(hist)"
   ]
  },
  {
   "cell_type": "code",
   "execution_count": null,
   "metadata": {},
   "outputs": [],
   "source": [
    "plt.figure(figsize=(15, 5))\n",
    "plt.subplot(1, 2, 1)\n",
    "plt.plot(hist['loss'])\n",
    "plt.plot(hist['val_loss'])\n",
    "plt.ylabel('loss')\n",
    "plt.xlabel('epoch')\n",
    "plt.legend(['train', 'val'])\n",
    "\n",
    "plt.subplot(1, 2, 2)\n",
    "plt.plot(hist['acc'])\n",
    "plt.plot(hist['val_acc'])\n",
    "plt.ylabel('acc')\n",
    "plt.xlabel('epoch')\n",
    "plt.legend(['train', 'val'])"
   ]
  },
  {
   "cell_type": "code",
   "execution_count": null,
   "metadata": {},
   "outputs": [],
   "source": []
  },
  {
   "cell_type": "markdown",
   "metadata": {},
   "source": [
    "## Implementing Shallow ConvNet (Schirrmeister et al. 2018)"
   ]
  },
  {
   "cell_type": "code",
   "execution_count": 10,
   "metadata": {},
   "outputs": [],
   "source": [
    "def Ksquare(x):\n",
    "    return tf.pow(x, 2)\n",
    "def Klog(x):\n",
    "    return tf.math.log(x)"
   ]
  },
  {
   "cell_type": "code",
   "execution_count": 13,
   "metadata": {},
   "outputs": [],
   "source": [
    "inputs = layers.Input(shape=(22, 1000))\n",
    "r1 = layers.Reshape((22, 1000, 1))(inputs)\n",
    "    # (N, 22, 1000) -> (N, 22, 1000, 1)\n",
    "c1 = layers.Conv2D(40, (1, 25), activation='elu', data_format='channels_last')(r1)\n",
    "    # (N, 22, 1000, 1) -> (N, 22, 976, 40), i.e. NHWC -> NHWC. 'channels_last' is default\n",
    "p1 = layers.Permute((2, 1, 3))(c1)\n",
    "    # (N, 22, 976, 40) -> (N, 976, 22, 40)\n",
    "r2 = layers.Reshape((976, 22*40))(p1)\n",
    "    # (N, 976, 22, 40) -> (N, 976, 22*40)\n",
    "d1 = layers.Dense(40, activation='elu')(r2)\n",
    "    # (N, 976, 22*40) -> (N, 976, 40)\n",
    "    # weight_shape = 22*40 x 40 = 35200\n",
    "    # bias_shape = 40\n",
    "sq1 = layers.Activation(Ksquare)(d1)\n",
    "ap1 = layers.AveragePooling1D(75, strides=15)(sq1)\n",
    "    # (N, 976, 40) -> (N, 61, 40)\n",
    "log1 = layers.Activation(Klog)(ap1)\n",
    "f1 = layers.Flatten()(log1)\n",
    "    # (N, 61, 40) -> (N, 61*40)\n",
    "outputs = layers.Dense(4, activation='softmax')(f1)\n",
    "    # (N, 61*40) -> (N, 4)"
   ]
  },
  {
   "cell_type": "code",
   "execution_count": 14,
   "metadata": {},
   "outputs": [],
   "source": [
    "model = models.Model(inputs=inputs, outputs=outputs, name='shallow_convnet')\n",
    "model.compile('adam', 'sparse_categorical_crossentropy', metrics=['acc'])\n",
    "#model.compile(keras.optimizers.Adam(), keras.losses.SparseCategoricalCrossentropy(), \n",
    "#             metrics=[keras.metrics.SparseCategoricalAccuracy()])"
   ]
  },
  {
   "cell_type": "code",
   "execution_count": 15,
   "metadata": {},
   "outputs": [
    {
     "name": "stdout",
     "output_type": "stream",
     "text": [
      "Model: \"shallow_convnet\"\n",
      "_________________________________________________________________\n",
      "Layer (type)                 Output Shape              Param #   \n",
      "=================================================================\n",
      "input_3 (InputLayer)         [(None, 22, 1000)]        0         \n",
      "_________________________________________________________________\n",
      "reshape_4 (Reshape)          (None, 22, 1000, 1)       0         \n",
      "_________________________________________________________________\n",
      "conv2d_2 (Conv2D)            (None, 22, 976, 40)       1040      \n",
      "_________________________________________________________________\n",
      "permute_2 (Permute)          (None, 976, 22, 40)       0         \n",
      "_________________________________________________________________\n",
      "reshape_5 (Reshape)          (None, 976, 880)          0         \n",
      "_________________________________________________________________\n",
      "dense_2 (Dense)              (None, 976, 40)           35240     \n",
      "_________________________________________________________________\n",
      "activation_2 (Activation)    (None, 976, 40)           0         \n",
      "_________________________________________________________________\n",
      "average_pooling1d_1 (Average (None, 61, 40)            0         \n",
      "_________________________________________________________________\n",
      "activation_3 (Activation)    (None, 61, 40)            0         \n",
      "_________________________________________________________________\n",
      "flatten (Flatten)            (None, 2440)              0         \n",
      "_________________________________________________________________\n",
      "dense_3 (Dense)              (None, 4)                 9764      \n",
      "=================================================================\n",
      "Total params: 46,044\n",
      "Trainable params: 46,044\n",
      "Non-trainable params: 0\n",
      "_________________________________________________________________\n"
     ]
    }
   ],
   "source": [
    "model.summary()"
   ]
  },
  {
   "cell_type": "code",
   "execution_count": 16,
   "metadata": {
    "scrolled": false
   },
   "outputs": [
    {
     "name": "stdout",
     "output_type": "stream",
     "text": [
      "Epoch 1/10\n",
      "53/53 [==============================] - 33s 609ms/step - loss: 1.7381 - acc: 0.3091 - val_loss: 1.3439 - val_acc: 0.3783\n",
      "Epoch 2/10\n",
      "53/53 [==============================] - 33s 614ms/step - loss: 1.1693 - acc: 0.4706 - val_loss: 1.2171 - val_acc: 0.4941\n",
      "Epoch 3/10\n",
      "53/53 [==============================] - 33s 617ms/step - loss: 0.9875 - acc: 0.6001 - val_loss: 1.1618 - val_acc: 0.5035\n",
      "Epoch 4/10\n",
      "53/53 [==============================] - 33s 629ms/step - loss: 0.8562 - acc: 0.6816 - val_loss: 1.1069 - val_acc: 0.5343\n",
      "Epoch 5/10\n",
      "53/53 [==============================] - 32s 614ms/step - loss: 0.7406 - acc: 0.7233 - val_loss: 1.0949 - val_acc: 0.5721\n",
      "Epoch 6/10\n",
      "53/53 [==============================] - 33s 632ms/step - loss: 0.6450 - acc: 0.7629 - val_loss: 1.0326 - val_acc: 0.5863\n",
      "Epoch 7/10\n",
      "53/53 [==============================] - 36s 677ms/step - loss: 0.5293 - acc: 0.8249 - val_loss: 1.2658 - val_acc: 0.5272\n",
      "Epoch 8/10\n",
      "53/53 [==============================] - 31s 592ms/step - loss: 0.5029 - acc: 0.8353 - val_loss: 1.1554 - val_acc: 0.5721\n",
      "Epoch 9/10\n",
      "53/53 [==============================] - 31s 593ms/step - loss: 0.3716 - acc: 0.8875 - val_loss: 1.2231 - val_acc: 0.5390\n",
      "Epoch 10/10\n",
      "53/53 [==============================] - 31s 589ms/step - loss: 0.3510 - acc: 0.8982 - val_loss: 1.1058 - val_acc: 0.5910\n"
     ]
    }
   ],
   "source": [
    "loss_hist = model.fit(Xtrain, ytrain, validation_data = (Xval, yval), epochs = 10, verbose=True)"
   ]
  },
  {
   "cell_type": "code",
   "execution_count": 17,
   "metadata": {},
   "outputs": [
    {
     "data": {
      "text/plain": [
       "<matplotlib.legend.Legend at 0x16d9e970688>"
      ]
     },
     "execution_count": 17,
     "metadata": {},
     "output_type": "execute_result"
    },
    {
     "data": {
      "image/png": "[encoded data removed]",
      "text/plain": [
       "<Figure size 1080x504 with 2 Axes>"
      ]
     },
     "metadata": {
      "needs_background": "light"
     },
     "output_type": "display_data"
    }
   ],
   "source": [
    "hist = loss_hist.history\n",
    "\n",
    "plt.figure(figsize=(15, 7))\n",
    "plt.subplot(1, 2, 1)\n",
    "plt.plot(hist['loss'])\n",
    "plt.plot(hist['val_loss'])\n",
    "plt.ylabel('loss')\n",
    "plt.xlabel('epoch')\n",
    "plt.legend(['train', 'val'])\n",
    "\n",
    "plt.subplot(1, 2, 2)\n",
    "plt.plot(hist['acc'])\n",
    "plt.plot(hist['val_acc'])\n",
    "plt.ylabel('acc')\n",
    "plt.xlabel('epoch')\n",
    "plt.legend(['train', 'val'])"
   ]
  },
  {
   "cell_type": "code",
   "execution_count": null,
   "metadata": {},
   "outputs": [],
   "source": []
  }
 ],
 "metadata": {
  "kernelspec": {
   "display_name": "Python 3",
   "language": "python",
   "name": "python3"
  },
  "language_info": {
   "codemirror_mode": {
    "name": "ipython",
    "version": 3
   },
   "file_extension": ".py",
   "mimetype": "text/x-python",
   "name": "python",
   "nbconvert_exporter": "python",
   "pygments_lexer": "ipython3",
   "version": "3.7.4"
  }
 },
 "nbformat": 4,
 "nbformat_minor": 4
}
